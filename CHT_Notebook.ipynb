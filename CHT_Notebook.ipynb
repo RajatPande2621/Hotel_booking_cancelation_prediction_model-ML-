{
 "cells": [
  {
   "cell_type": "markdown",
   "id": "f6a5899b",
   "metadata": {
    "id": "dense-medicaid"
   },
   "source": [
    "# **Project - Classification and Hypothesis Testing: Hotel Booking Cancellation Prediction**\n",
    "\n",
    "## **Marks: 40**\n",
    "\n",
    "---------------\n",
    "## **Problem Statement**\n",
    "\n",
    "### **Context**\n",
    "\n",
    "**A significant number of hotel bookings are called off due to cancellations or no-shows.** Typical reasons for cancellations include change of plans, scheduling conflicts, etc. This is often made easier by the option to do so free of charge or preferably at a low cost. This may be beneficial to hotel guests, but it is a less desirable and possibly revenue-diminishing factor for hotels to deal with. Such losses are particularly high on last-minute cancellations.\n",
    "\n",
    "The new technologies involving online booking channels have dramatically changed customers’ booking possibilities and behavior. This adds a further dimension to the challenge of how hotels handle cancellations, which are no longer limited to traditional booking and guest characteristics.\n",
    "\n",
    "This pattern of cancellations of bookings impacts a hotel on various fronts:\n",
    "1. **Loss of resources (revenue)** when the hotel cannot resell the room.\n",
    "2. **Additional costs of distribution channels** by increasing commissions or paying for publicity to help sell these rooms.\n",
    "3. **Lowering prices last minute**, so the hotel can resell a room, resulting in reducing the profit margin.\n",
    "4. **Human resources to make arrangements** for the guests.\n",
    "\n",
    "### **Objective**\n",
    "\n",
    "This increasing number of cancellations calls for a Machine Learning based solution that can help in predicting which booking is likely to be canceled. INN Hotels Group has a chain of hotels in Portugal - they are facing problems with this high number of booking cancellations and have reached out to your firm for data-driven solutions. You, as a Data Scientist, have to analyze the data provided to find which factors have a high influence on booking cancellations, build a predictive model that can predict which booking is going to be canceled in advance, and help in formulating profitable policies for cancellations and refunds.\n",
    "\n",
    "\n",
    "### **Data Description**\n",
    "\n",
    "The data contains the different attributes of customers' booking details. The detailed data dictionary is given below:\n",
    "\n",
    "\n",
    "**Data Dictionary**\n",
    "\n",
    "* **Booking_ID:** Unique identifier of each booking\n",
    "* **no_of_adults:** Number of adults\n",
    "* **no_of_children:** Number of children\n",
    "* **no_of_weekend_nights:** Number of weekend nights (Saturday or Sunday) the guest stayed or booked to stay at the hotel\n",
    "* **no_of_week_nights:** Number of weekday nights (Monday to Friday) the guest stayed or booked to stay at the hotel\n",
    "* **type_of_meal_plan:** Type of meal plan booked by the customer:\n",
    "    * Not Selected – No meal plan selected\n",
    "    * Meal Plan 1 – Breakfast\n",
    "    * Meal Plan 2 – Half board (breakfast and one other meal)\n",
    "    * Meal Plan 3 – Full board (breakfast, lunch, and dinner)\n",
    "* **required_car_parking_space:** Does the customer require a car parking space? (0 - No, 1- Yes)\n",
    "* **room_type_reserved:** Type of room reserved by the customer. The values are ciphered (encoded) by INN Hotels.\n",
    "* **lead_time:** Number of days between the date of booking and the arrival date\n",
    "* **arrival_year:** Year of arrival date\n",
    "* **arrival_month:** Month of arrival date\n",
    "* **arrival_date:** Date of the month\n",
    "* **market_segment_type:** Market segment designation.\n",
    "* **repeated_guest:** Is the customer a repeated guest? (0 - No, 1- Yes)\n",
    "* **no_of_previous_cancellations:** Number of previous bookings that were canceled by the customer prior to the current booking\n",
    "* **no_of_previous_bookings_not_canceled:** Number of previous bookings not canceled by the customer prior to the current booking\n",
    "* **avg_price_per_room:** Average price per day of the reservation; prices of the rooms are dynamic. (in euros)\n",
    "* **no_of_special_requests:** Total number of special requests made by the customer (e.g. high floor, view from the room, etc)\n",
    "* **booking_status:** Flag indicating if the booking was canceled or not."
   ]
  },
  {
   "cell_type": "markdown",
   "id": "fcc8d195",
   "metadata": {
    "id": "tqfNqaJCQeEE"
   },
   "source": [
    "## **Importing the libraries required**"
   ]
  },
  {
   "cell_type": "code",
   "execution_count": 3,
   "id": "cb949a4d",
   "metadata": {
    "id": "proper-calgary"
   },
   "outputs": [],
   "source": [
    "# Importing the basic libraries we will require for the project\n",
    "\n",
    "# Libraries to help with reading and manipulating data\n",
    "import pandas as pd\n",
    "import numpy as np\n",
    "\n",
    "# Libaries to help with data visualization\n",
    "import matplotlib.pyplot as plt\n",
    "import seaborn as sns\n",
    "sns.set()\n",
    "\n",
    "# Importing the Machine Learning models we require from Scikit-Learn\n",
    "from sklearn.linear_model import LogisticRegression\n",
    "from sklearn.svm import SVC\n",
    "from sklearn.tree import DecisionTreeClassifier\n",
    "from sklearn import tree\n",
    "from sklearn.ensemble import RandomForestClassifier\n",
    "\n",
    "# Importing the other functions we may require from Scikit-Learn\n",
    "from sklearn.model_selection import train_test_split, GridSearchCV\n",
    "from sklearn.preprocessing import MinMaxScaler, LabelEncoder, OneHotEncoder\n",
    "\n",
    "# To get diferent metric scores\n",
    "from sklearn.metrics import confusion_matrix,classification_report,roc_auc_score,plot_confusion_matrix,precision_recall_curve,roc_curve,make_scorer\n",
    "\n",
    "# Code to ignore warnings from function usage\n",
    "import warnings;\n",
    "import numpy as np\n",
    "warnings.filterwarnings('ignore')"
   ]
  },
  {
   "cell_type": "markdown",
   "id": "d120aca1",
   "metadata": {
    "id": "fantastic-rebel"
   },
   "source": [
    "## **Loading the dataset**"
   ]
  },
  {
   "cell_type": "code",
   "execution_count": 4,
   "id": "a292b7bb",
   "metadata": {
    "id": "precious-leonard"
   },
   "outputs": [],
   "source": [
    "hotel = pd.read_csv(\"INNHotelsGroup.csv\")"
   ]
  },
  {
   "cell_type": "code",
   "execution_count": 5,
   "id": "0715374e",
   "metadata": {
    "id": "geographic-gender"
   },
   "outputs": [],
   "source": [
    "# Copying data to another variable to avoid any changes to original data\n",
    "data = hotel.copy()"
   ]
  },
  {
   "cell_type": "markdown",
   "id": "219db586",
   "metadata": {
    "id": "fD7H-dajQqyQ"
   },
   "source": [
    "## **Overview of the dataset**"
   ]
  },
  {
   "cell_type": "markdown",
   "id": "cd471c84",
   "metadata": {
    "id": "convinced-blackberry"
   },
   "source": [
    "### **View the first and last 5 rows of the dataset**\n",
    "\n",
    "Let's **view the first few rows and last few rows** of the dataset in order to understand its structure a little better.\n",
    "\n",
    "We will use the head() and tail() methods from Pandas to do this."
   ]
  },
  {
   "cell_type": "code",
   "execution_count": 6,
   "id": "ad072edf",
   "metadata": {
    "id": "tested-adjustment"
   },
   "outputs": [
    {
     "data": {
      "text/html": [
       "<div>\n",
       "<style scoped>\n",
       "    .dataframe tbody tr th:only-of-type {\n",
       "        vertical-align: middle;\n",
       "    }\n",
       "\n",
       "    .dataframe tbody tr th {\n",
       "        vertical-align: top;\n",
       "    }\n",
       "\n",
       "    .dataframe thead th {\n",
       "        text-align: right;\n",
       "    }\n",
       "</style>\n",
       "<table border=\"1\" class=\"dataframe\">\n",
       "  <thead>\n",
       "    <tr style=\"text-align: right;\">\n",
       "      <th></th>\n",
       "      <th>Booking_ID</th>\n",
       "      <th>no_of_adults</th>\n",
       "      <th>no_of_children</th>\n",
       "      <th>no_of_weekend_nights</th>\n",
       "      <th>no_of_week_nights</th>\n",
       "      <th>type_of_meal_plan</th>\n",
       "      <th>required_car_parking_space</th>\n",
       "      <th>room_type_reserved</th>\n",
       "      <th>lead_time</th>\n",
       "      <th>arrival_year</th>\n",
       "      <th>arrival_month</th>\n",
       "      <th>arrival_date</th>\n",
       "      <th>market_segment_type</th>\n",
       "      <th>repeated_guest</th>\n",
       "      <th>no_of_previous_cancellations</th>\n",
       "      <th>no_of_previous_bookings_not_canceled</th>\n",
       "      <th>avg_price_per_room</th>\n",
       "      <th>no_of_special_requests</th>\n",
       "      <th>booking_status</th>\n",
       "    </tr>\n",
       "  </thead>\n",
       "  <tbody>\n",
       "    <tr>\n",
       "      <th>0</th>\n",
       "      <td>INN00001</td>\n",
       "      <td>2</td>\n",
       "      <td>0</td>\n",
       "      <td>1</td>\n",
       "      <td>2</td>\n",
       "      <td>Meal Plan 1</td>\n",
       "      <td>0</td>\n",
       "      <td>Room_Type 1</td>\n",
       "      <td>224</td>\n",
       "      <td>2017</td>\n",
       "      <td>10</td>\n",
       "      <td>2</td>\n",
       "      <td>Offline</td>\n",
       "      <td>0</td>\n",
       "      <td>0</td>\n",
       "      <td>0</td>\n",
       "      <td>65.00</td>\n",
       "      <td>0</td>\n",
       "      <td>Not_Canceled</td>\n",
       "    </tr>\n",
       "    <tr>\n",
       "      <th>1</th>\n",
       "      <td>INN00002</td>\n",
       "      <td>2</td>\n",
       "      <td>0</td>\n",
       "      <td>2</td>\n",
       "      <td>3</td>\n",
       "      <td>Not Selected</td>\n",
       "      <td>0</td>\n",
       "      <td>Room_Type 1</td>\n",
       "      <td>5</td>\n",
       "      <td>2018</td>\n",
       "      <td>11</td>\n",
       "      <td>6</td>\n",
       "      <td>Online</td>\n",
       "      <td>0</td>\n",
       "      <td>0</td>\n",
       "      <td>0</td>\n",
       "      <td>106.68</td>\n",
       "      <td>1</td>\n",
       "      <td>Not_Canceled</td>\n",
       "    </tr>\n",
       "    <tr>\n",
       "      <th>2</th>\n",
       "      <td>INN00003</td>\n",
       "      <td>1</td>\n",
       "      <td>0</td>\n",
       "      <td>2</td>\n",
       "      <td>1</td>\n",
       "      <td>Meal Plan 1</td>\n",
       "      <td>0</td>\n",
       "      <td>Room_Type 1</td>\n",
       "      <td>1</td>\n",
       "      <td>2018</td>\n",
       "      <td>2</td>\n",
       "      <td>28</td>\n",
       "      <td>Online</td>\n",
       "      <td>0</td>\n",
       "      <td>0</td>\n",
       "      <td>0</td>\n",
       "      <td>60.00</td>\n",
       "      <td>0</td>\n",
       "      <td>Canceled</td>\n",
       "    </tr>\n",
       "    <tr>\n",
       "      <th>3</th>\n",
       "      <td>INN00004</td>\n",
       "      <td>2</td>\n",
       "      <td>0</td>\n",
       "      <td>0</td>\n",
       "      <td>2</td>\n",
       "      <td>Meal Plan 1</td>\n",
       "      <td>0</td>\n",
       "      <td>Room_Type 1</td>\n",
       "      <td>211</td>\n",
       "      <td>2018</td>\n",
       "      <td>5</td>\n",
       "      <td>20</td>\n",
       "      <td>Online</td>\n",
       "      <td>0</td>\n",
       "      <td>0</td>\n",
       "      <td>0</td>\n",
       "      <td>100.00</td>\n",
       "      <td>0</td>\n",
       "      <td>Canceled</td>\n",
       "    </tr>\n",
       "    <tr>\n",
       "      <th>4</th>\n",
       "      <td>INN00005</td>\n",
       "      <td>2</td>\n",
       "      <td>0</td>\n",
       "      <td>1</td>\n",
       "      <td>1</td>\n",
       "      <td>Not Selected</td>\n",
       "      <td>0</td>\n",
       "      <td>Room_Type 1</td>\n",
       "      <td>48</td>\n",
       "      <td>2018</td>\n",
       "      <td>4</td>\n",
       "      <td>11</td>\n",
       "      <td>Online</td>\n",
       "      <td>0</td>\n",
       "      <td>0</td>\n",
       "      <td>0</td>\n",
       "      <td>94.50</td>\n",
       "      <td>0</td>\n",
       "      <td>Canceled</td>\n",
       "    </tr>\n",
       "  </tbody>\n",
       "</table>\n",
       "</div>"
      ],
      "text/plain": [
       "  Booking_ID  no_of_adults  no_of_children  no_of_weekend_nights  \\\n",
       "0   INN00001             2               0                     1   \n",
       "1   INN00002             2               0                     2   \n",
       "2   INN00003             1               0                     2   \n",
       "3   INN00004             2               0                     0   \n",
       "4   INN00005             2               0                     1   \n",
       "\n",
       "   no_of_week_nights type_of_meal_plan  required_car_parking_space  \\\n",
       "0                  2       Meal Plan 1                           0   \n",
       "1                  3      Not Selected                           0   \n",
       "2                  1       Meal Plan 1                           0   \n",
       "3                  2       Meal Plan 1                           0   \n",
       "4                  1      Not Selected                           0   \n",
       "\n",
       "  room_type_reserved  lead_time  arrival_year  arrival_month  arrival_date  \\\n",
       "0        Room_Type 1        224          2017             10             2   \n",
       "1        Room_Type 1          5          2018             11             6   \n",
       "2        Room_Type 1          1          2018              2            28   \n",
       "3        Room_Type 1        211          2018              5            20   \n",
       "4        Room_Type 1         48          2018              4            11   \n",
       "\n",
       "  market_segment_type  repeated_guest  no_of_previous_cancellations  \\\n",
       "0             Offline               0                             0   \n",
       "1              Online               0                             0   \n",
       "2              Online               0                             0   \n",
       "3              Online               0                             0   \n",
       "4              Online               0                             0   \n",
       "\n",
       "   no_of_previous_bookings_not_canceled  avg_price_per_room  \\\n",
       "0                                     0               65.00   \n",
       "1                                     0              106.68   \n",
       "2                                     0               60.00   \n",
       "3                                     0              100.00   \n",
       "4                                     0               94.50   \n",
       "\n",
       "   no_of_special_requests booking_status  \n",
       "0                       0   Not_Canceled  \n",
       "1                       1   Not_Canceled  \n",
       "2                       0       Canceled  \n",
       "3                       0       Canceled  \n",
       "4                       0       Canceled  "
      ]
     },
     "execution_count": 6,
     "metadata": {},
     "output_type": "execute_result"
    }
   ],
   "source": [
    "data.head()"
   ]
  },
  {
   "cell_type": "code",
   "execution_count": 7,
   "id": "fe49b320",
   "metadata": {
    "id": "demonstrated-charger"
   },
   "outputs": [
    {
     "data": {
      "text/html": [
       "<div>\n",
       "<style scoped>\n",
       "    .dataframe tbody tr th:only-of-type {\n",
       "        vertical-align: middle;\n",
       "    }\n",
       "\n",
       "    .dataframe tbody tr th {\n",
       "        vertical-align: top;\n",
       "    }\n",
       "\n",
       "    .dataframe thead th {\n",
       "        text-align: right;\n",
       "    }\n",
       "</style>\n",
       "<table border=\"1\" class=\"dataframe\">\n",
       "  <thead>\n",
       "    <tr style=\"text-align: right;\">\n",
       "      <th></th>\n",
       "      <th>Booking_ID</th>\n",
       "      <th>no_of_adults</th>\n",
       "      <th>no_of_children</th>\n",
       "      <th>no_of_weekend_nights</th>\n",
       "      <th>no_of_week_nights</th>\n",
       "      <th>type_of_meal_plan</th>\n",
       "      <th>required_car_parking_space</th>\n",
       "      <th>room_type_reserved</th>\n",
       "      <th>lead_time</th>\n",
       "      <th>arrival_year</th>\n",
       "      <th>arrival_month</th>\n",
       "      <th>arrival_date</th>\n",
       "      <th>market_segment_type</th>\n",
       "      <th>repeated_guest</th>\n",
       "      <th>no_of_previous_cancellations</th>\n",
       "      <th>no_of_previous_bookings_not_canceled</th>\n",
       "      <th>avg_price_per_room</th>\n",
       "      <th>no_of_special_requests</th>\n",
       "      <th>booking_status</th>\n",
       "    </tr>\n",
       "  </thead>\n",
       "  <tbody>\n",
       "    <tr>\n",
       "      <th>36270</th>\n",
       "      <td>INN36271</td>\n",
       "      <td>3</td>\n",
       "      <td>0</td>\n",
       "      <td>2</td>\n",
       "      <td>6</td>\n",
       "      <td>Meal Plan 1</td>\n",
       "      <td>0</td>\n",
       "      <td>Room_Type 4</td>\n",
       "      <td>85</td>\n",
       "      <td>2018</td>\n",
       "      <td>8</td>\n",
       "      <td>3</td>\n",
       "      <td>Online</td>\n",
       "      <td>0</td>\n",
       "      <td>0</td>\n",
       "      <td>0</td>\n",
       "      <td>167.80</td>\n",
       "      <td>1</td>\n",
       "      <td>Not_Canceled</td>\n",
       "    </tr>\n",
       "    <tr>\n",
       "      <th>36271</th>\n",
       "      <td>INN36272</td>\n",
       "      <td>2</td>\n",
       "      <td>0</td>\n",
       "      <td>1</td>\n",
       "      <td>3</td>\n",
       "      <td>Meal Plan 1</td>\n",
       "      <td>0</td>\n",
       "      <td>Room_Type 1</td>\n",
       "      <td>228</td>\n",
       "      <td>2018</td>\n",
       "      <td>10</td>\n",
       "      <td>17</td>\n",
       "      <td>Online</td>\n",
       "      <td>0</td>\n",
       "      <td>0</td>\n",
       "      <td>0</td>\n",
       "      <td>90.95</td>\n",
       "      <td>2</td>\n",
       "      <td>Canceled</td>\n",
       "    </tr>\n",
       "    <tr>\n",
       "      <th>36272</th>\n",
       "      <td>INN36273</td>\n",
       "      <td>2</td>\n",
       "      <td>0</td>\n",
       "      <td>2</td>\n",
       "      <td>6</td>\n",
       "      <td>Meal Plan 1</td>\n",
       "      <td>0</td>\n",
       "      <td>Room_Type 1</td>\n",
       "      <td>148</td>\n",
       "      <td>2018</td>\n",
       "      <td>7</td>\n",
       "      <td>1</td>\n",
       "      <td>Online</td>\n",
       "      <td>0</td>\n",
       "      <td>0</td>\n",
       "      <td>0</td>\n",
       "      <td>98.39</td>\n",
       "      <td>2</td>\n",
       "      <td>Not_Canceled</td>\n",
       "    </tr>\n",
       "    <tr>\n",
       "      <th>36273</th>\n",
       "      <td>INN36274</td>\n",
       "      <td>2</td>\n",
       "      <td>0</td>\n",
       "      <td>0</td>\n",
       "      <td>3</td>\n",
       "      <td>Not Selected</td>\n",
       "      <td>0</td>\n",
       "      <td>Room_Type 1</td>\n",
       "      <td>63</td>\n",
       "      <td>2018</td>\n",
       "      <td>4</td>\n",
       "      <td>21</td>\n",
       "      <td>Online</td>\n",
       "      <td>0</td>\n",
       "      <td>0</td>\n",
       "      <td>0</td>\n",
       "      <td>94.50</td>\n",
       "      <td>0</td>\n",
       "      <td>Canceled</td>\n",
       "    </tr>\n",
       "    <tr>\n",
       "      <th>36274</th>\n",
       "      <td>INN36275</td>\n",
       "      <td>2</td>\n",
       "      <td>0</td>\n",
       "      <td>1</td>\n",
       "      <td>2</td>\n",
       "      <td>Meal Plan 1</td>\n",
       "      <td>0</td>\n",
       "      <td>Room_Type 1</td>\n",
       "      <td>207</td>\n",
       "      <td>2018</td>\n",
       "      <td>12</td>\n",
       "      <td>30</td>\n",
       "      <td>Offline</td>\n",
       "      <td>0</td>\n",
       "      <td>0</td>\n",
       "      <td>0</td>\n",
       "      <td>161.67</td>\n",
       "      <td>0</td>\n",
       "      <td>Not_Canceled</td>\n",
       "    </tr>\n",
       "  </tbody>\n",
       "</table>\n",
       "</div>"
      ],
      "text/plain": [
       "      Booking_ID  no_of_adults  no_of_children  no_of_weekend_nights  \\\n",
       "36270   INN36271             3               0                     2   \n",
       "36271   INN36272             2               0                     1   \n",
       "36272   INN36273             2               0                     2   \n",
       "36273   INN36274             2               0                     0   \n",
       "36274   INN36275             2               0                     1   \n",
       "\n",
       "       no_of_week_nights type_of_meal_plan  required_car_parking_space  \\\n",
       "36270                  6       Meal Plan 1                           0   \n",
       "36271                  3       Meal Plan 1                           0   \n",
       "36272                  6       Meal Plan 1                           0   \n",
       "36273                  3      Not Selected                           0   \n",
       "36274                  2       Meal Plan 1                           0   \n",
       "\n",
       "      room_type_reserved  lead_time  arrival_year  arrival_month  \\\n",
       "36270        Room_Type 4         85          2018              8   \n",
       "36271        Room_Type 1        228          2018             10   \n",
       "36272        Room_Type 1        148          2018              7   \n",
       "36273        Room_Type 1         63          2018              4   \n",
       "36274        Room_Type 1        207          2018             12   \n",
       "\n",
       "       arrival_date market_segment_type  repeated_guest  \\\n",
       "36270             3              Online               0   \n",
       "36271            17              Online               0   \n",
       "36272             1              Online               0   \n",
       "36273            21              Online               0   \n",
       "36274            30             Offline               0   \n",
       "\n",
       "       no_of_previous_cancellations  no_of_previous_bookings_not_canceled  \\\n",
       "36270                             0                                     0   \n",
       "36271                             0                                     0   \n",
       "36272                             0                                     0   \n",
       "36273                             0                                     0   \n",
       "36274                             0                                     0   \n",
       "\n",
       "       avg_price_per_room  no_of_special_requests booking_status  \n",
       "36270              167.80                       1   Not_Canceled  \n",
       "36271               90.95                       2       Canceled  \n",
       "36272               98.39                       2   Not_Canceled  \n",
       "36273               94.50                       0       Canceled  \n",
       "36274              161.67                       0   Not_Canceled  "
      ]
     },
     "execution_count": 7,
     "metadata": {},
     "output_type": "execute_result"
    }
   ],
   "source": [
    "data.tail()"
   ]
  },
  {
   "cell_type": "markdown",
   "id": "4f0e30c2",
   "metadata": {
    "id": "prepared-clause"
   },
   "source": [
    "### **Understand the shape of the dataset**"
   ]
  },
  {
   "cell_type": "code",
   "execution_count": 8,
   "id": "2430d679",
   "metadata": {
    "id": "likely-scene"
   },
   "outputs": [
    {
     "data": {
      "text/plain": [
       "(36275, 19)"
      ]
     },
     "execution_count": 8,
     "metadata": {},
     "output_type": "execute_result"
    }
   ],
   "source": [
    "data.shape"
   ]
  },
  {
   "cell_type": "markdown",
   "id": "46d10d41",
   "metadata": {
    "id": "sacred-language"
   },
   "source": [
    "* The dataset has 36275 rows and 19 columns. "
   ]
  },
  {
   "cell_type": "markdown",
   "id": "27bfbe3b",
   "metadata": {
    "id": "creative-warner"
   },
   "source": [
    "### **Check the data types of the columns for the dataset**"
   ]
  },
  {
   "cell_type": "code",
   "execution_count": null,
   "id": "bc851bb2",
   "metadata": {
    "id": "expanded-technique"
   },
   "outputs": [],
   "source": [
    "data.info()"
   ]
  },
  {
   "cell_type": "markdown",
   "id": "26d10e82",
   "metadata": {
    "id": "august-hopkins"
   },
   "source": [
    "* `Booking_ID`, `type_of_meal_plan`, `room_type_reserved`, `market_segment_type`, and `booking_status` are of object type while rest columns are numeric in nature.\n",
    "\n",
    "* There are no null values in the dataset."
   ]
  },
  {
   "cell_type": "markdown",
   "id": "642b4317",
   "metadata": {
    "id": "JrjZHnfFQ4fh"
   },
   "source": [
    "### **Dropping duplicate values**"
   ]
  },
  {
   "cell_type": "code",
   "execution_count": null,
   "id": "419aefb2",
   "metadata": {
    "id": "greenhouse-vertical"
   },
   "outputs": [],
   "source": [
    "# checking for duplicate values\n",
    "data.duplicated().sum()"
   ]
  },
  {
   "cell_type": "markdown",
   "id": "dc6a8d7b",
   "metadata": {
    "id": "adjustable-programmer"
   },
   "source": [
    "- There are **no duplicate values** in the data."
   ]
  },
  {
   "cell_type": "markdown",
   "id": "8398b724",
   "metadata": {
    "id": "1-CD9xCkQ-bu"
   },
   "source": [
    "### **Dropping the unique values column**"
   ]
  },
  {
   "cell_type": "markdown",
   "id": "87d036ec",
   "metadata": {
    "id": "928c50b6"
   },
   "source": [
    "**Let's drop the Booking_ID column first before we proceed forward**, as a column with unique values will have almost no predictive power for the Machine Learning problem at hand."
   ]
  },
  {
   "cell_type": "code",
   "execution_count": 9,
   "id": "62d994fb",
   "metadata": {
    "id": "referenced-architect"
   },
   "outputs": [],
   "source": [
    "data = data.drop([\"Booking_ID\"], axis=1)"
   ]
  },
  {
   "cell_type": "code",
   "execution_count": 10,
   "id": "75e5cf7d",
   "metadata": {
    "id": "40b248aa"
   },
   "outputs": [
    {
     "data": {
      "text/html": [
       "<div>\n",
       "<style scoped>\n",
       "    .dataframe tbody tr th:only-of-type {\n",
       "        vertical-align: middle;\n",
       "    }\n",
       "\n",
       "    .dataframe tbody tr th {\n",
       "        vertical-align: top;\n",
       "    }\n",
       "\n",
       "    .dataframe thead th {\n",
       "        text-align: right;\n",
       "    }\n",
       "</style>\n",
       "<table border=\"1\" class=\"dataframe\">\n",
       "  <thead>\n",
       "    <tr style=\"text-align: right;\">\n",
       "      <th></th>\n",
       "      <th>no_of_adults</th>\n",
       "      <th>no_of_children</th>\n",
       "      <th>no_of_weekend_nights</th>\n",
       "      <th>no_of_week_nights</th>\n",
       "      <th>type_of_meal_plan</th>\n",
       "      <th>required_car_parking_space</th>\n",
       "      <th>room_type_reserved</th>\n",
       "      <th>lead_time</th>\n",
       "      <th>arrival_year</th>\n",
       "      <th>arrival_month</th>\n",
       "      <th>arrival_date</th>\n",
       "      <th>market_segment_type</th>\n",
       "      <th>repeated_guest</th>\n",
       "      <th>no_of_previous_cancellations</th>\n",
       "      <th>no_of_previous_bookings_not_canceled</th>\n",
       "      <th>avg_price_per_room</th>\n",
       "      <th>no_of_special_requests</th>\n",
       "      <th>booking_status</th>\n",
       "    </tr>\n",
       "  </thead>\n",
       "  <tbody>\n",
       "    <tr>\n",
       "      <th>0</th>\n",
       "      <td>2</td>\n",
       "      <td>0</td>\n",
       "      <td>1</td>\n",
       "      <td>2</td>\n",
       "      <td>Meal Plan 1</td>\n",
       "      <td>0</td>\n",
       "      <td>Room_Type 1</td>\n",
       "      <td>224</td>\n",
       "      <td>2017</td>\n",
       "      <td>10</td>\n",
       "      <td>2</td>\n",
       "      <td>Offline</td>\n",
       "      <td>0</td>\n",
       "      <td>0</td>\n",
       "      <td>0</td>\n",
       "      <td>65.00</td>\n",
       "      <td>0</td>\n",
       "      <td>Not_Canceled</td>\n",
       "    </tr>\n",
       "    <tr>\n",
       "      <th>1</th>\n",
       "      <td>2</td>\n",
       "      <td>0</td>\n",
       "      <td>2</td>\n",
       "      <td>3</td>\n",
       "      <td>Not Selected</td>\n",
       "      <td>0</td>\n",
       "      <td>Room_Type 1</td>\n",
       "      <td>5</td>\n",
       "      <td>2018</td>\n",
       "      <td>11</td>\n",
       "      <td>6</td>\n",
       "      <td>Online</td>\n",
       "      <td>0</td>\n",
       "      <td>0</td>\n",
       "      <td>0</td>\n",
       "      <td>106.68</td>\n",
       "      <td>1</td>\n",
       "      <td>Not_Canceled</td>\n",
       "    </tr>\n",
       "    <tr>\n",
       "      <th>2</th>\n",
       "      <td>1</td>\n",
       "      <td>0</td>\n",
       "      <td>2</td>\n",
       "      <td>1</td>\n",
       "      <td>Meal Plan 1</td>\n",
       "      <td>0</td>\n",
       "      <td>Room_Type 1</td>\n",
       "      <td>1</td>\n",
       "      <td>2018</td>\n",
       "      <td>2</td>\n",
       "      <td>28</td>\n",
       "      <td>Online</td>\n",
       "      <td>0</td>\n",
       "      <td>0</td>\n",
       "      <td>0</td>\n",
       "      <td>60.00</td>\n",
       "      <td>0</td>\n",
       "      <td>Canceled</td>\n",
       "    </tr>\n",
       "    <tr>\n",
       "      <th>3</th>\n",
       "      <td>2</td>\n",
       "      <td>0</td>\n",
       "      <td>0</td>\n",
       "      <td>2</td>\n",
       "      <td>Meal Plan 1</td>\n",
       "      <td>0</td>\n",
       "      <td>Room_Type 1</td>\n",
       "      <td>211</td>\n",
       "      <td>2018</td>\n",
       "      <td>5</td>\n",
       "      <td>20</td>\n",
       "      <td>Online</td>\n",
       "      <td>0</td>\n",
       "      <td>0</td>\n",
       "      <td>0</td>\n",
       "      <td>100.00</td>\n",
       "      <td>0</td>\n",
       "      <td>Canceled</td>\n",
       "    </tr>\n",
       "    <tr>\n",
       "      <th>4</th>\n",
       "      <td>2</td>\n",
       "      <td>0</td>\n",
       "      <td>1</td>\n",
       "      <td>1</td>\n",
       "      <td>Not Selected</td>\n",
       "      <td>0</td>\n",
       "      <td>Room_Type 1</td>\n",
       "      <td>48</td>\n",
       "      <td>2018</td>\n",
       "      <td>4</td>\n",
       "      <td>11</td>\n",
       "      <td>Online</td>\n",
       "      <td>0</td>\n",
       "      <td>0</td>\n",
       "      <td>0</td>\n",
       "      <td>94.50</td>\n",
       "      <td>0</td>\n",
       "      <td>Canceled</td>\n",
       "    </tr>\n",
       "  </tbody>\n",
       "</table>\n",
       "</div>"
      ],
      "text/plain": [
       "   no_of_adults  no_of_children  no_of_weekend_nights  no_of_week_nights  \\\n",
       "0             2               0                     1                  2   \n",
       "1             2               0                     2                  3   \n",
       "2             1               0                     2                  1   \n",
       "3             2               0                     0                  2   \n",
       "4             2               0                     1                  1   \n",
       "\n",
       "  type_of_meal_plan  required_car_parking_space room_type_reserved  lead_time  \\\n",
       "0       Meal Plan 1                           0        Room_Type 1        224   \n",
       "1      Not Selected                           0        Room_Type 1          5   \n",
       "2       Meal Plan 1                           0        Room_Type 1          1   \n",
       "3       Meal Plan 1                           0        Room_Type 1        211   \n",
       "4      Not Selected                           0        Room_Type 1         48   \n",
       "\n",
       "   arrival_year  arrival_month  arrival_date market_segment_type  \\\n",
       "0          2017             10             2             Offline   \n",
       "1          2018             11             6              Online   \n",
       "2          2018              2            28              Online   \n",
       "3          2018              5            20              Online   \n",
       "4          2018              4            11              Online   \n",
       "\n",
       "   repeated_guest  no_of_previous_cancellations  \\\n",
       "0               0                             0   \n",
       "1               0                             0   \n",
       "2               0                             0   \n",
       "3               0                             0   \n",
       "4               0                             0   \n",
       "\n",
       "   no_of_previous_bookings_not_canceled  avg_price_per_room  \\\n",
       "0                                     0               65.00   \n",
       "1                                     0              106.68   \n",
       "2                                     0               60.00   \n",
       "3                                     0              100.00   \n",
       "4                                     0               94.50   \n",
       "\n",
       "   no_of_special_requests booking_status  \n",
       "0                       0   Not_Canceled  \n",
       "1                       1   Not_Canceled  \n",
       "2                       0       Canceled  \n",
       "3                       0       Canceled  \n",
       "4                       0       Canceled  "
      ]
     },
     "execution_count": 10,
     "metadata": {},
     "output_type": "execute_result"
    }
   ],
   "source": [
    "data.head()"
   ]
  },
  {
   "cell_type": "markdown",
   "id": "dc1d9cb1",
   "metadata": {
    "id": "PT4JpT2NRKBB"
   },
   "source": [
    "### **Question 1: Check the summary statistics of the dataset and write your observations (2 Marks)**\n",
    "\n"
   ]
  },
  {
   "cell_type": "markdown",
   "id": "b4e5f6fc",
   "metadata": {
    "id": "seeing-newman"
   },
   "source": [
    "**Let's check the statistical summary of the data.**"
   ]
  },
  {
   "cell_type": "code",
   "execution_count": 11,
   "id": "81123ba6",
   "metadata": {
    "id": "backed-solution"
   },
   "outputs": [
    {
     "data": {
      "text/html": [
       "<div>\n",
       "<style scoped>\n",
       "    .dataframe tbody tr th:only-of-type {\n",
       "        vertical-align: middle;\n",
       "    }\n",
       "\n",
       "    .dataframe tbody tr th {\n",
       "        vertical-align: top;\n",
       "    }\n",
       "\n",
       "    .dataframe thead th {\n",
       "        text-align: right;\n",
       "    }\n",
       "</style>\n",
       "<table border=\"1\" class=\"dataframe\">\n",
       "  <thead>\n",
       "    <tr style=\"text-align: right;\">\n",
       "      <th></th>\n",
       "      <th>no_of_adults</th>\n",
       "      <th>no_of_children</th>\n",
       "      <th>no_of_weekend_nights</th>\n",
       "      <th>no_of_week_nights</th>\n",
       "      <th>required_car_parking_space</th>\n",
       "      <th>lead_time</th>\n",
       "      <th>arrival_year</th>\n",
       "      <th>arrival_month</th>\n",
       "      <th>arrival_date</th>\n",
       "      <th>repeated_guest</th>\n",
       "      <th>no_of_previous_cancellations</th>\n",
       "      <th>no_of_previous_bookings_not_canceled</th>\n",
       "      <th>avg_price_per_room</th>\n",
       "      <th>no_of_special_requests</th>\n",
       "    </tr>\n",
       "  </thead>\n",
       "  <tbody>\n",
       "    <tr>\n",
       "      <th>count</th>\n",
       "      <td>36275.000000</td>\n",
       "      <td>36275.000000</td>\n",
       "      <td>36275.000000</td>\n",
       "      <td>36275.000000</td>\n",
       "      <td>36275.000000</td>\n",
       "      <td>36275.000000</td>\n",
       "      <td>36275.000000</td>\n",
       "      <td>36275.000000</td>\n",
       "      <td>36275.000000</td>\n",
       "      <td>36275.000000</td>\n",
       "      <td>36275.000000</td>\n",
       "      <td>36275.000000</td>\n",
       "      <td>36275.000000</td>\n",
       "      <td>36275.000000</td>\n",
       "    </tr>\n",
       "    <tr>\n",
       "      <th>mean</th>\n",
       "      <td>1.844962</td>\n",
       "      <td>0.105279</td>\n",
       "      <td>0.810724</td>\n",
       "      <td>2.204300</td>\n",
       "      <td>0.030986</td>\n",
       "      <td>85.232557</td>\n",
       "      <td>2017.820427</td>\n",
       "      <td>7.423653</td>\n",
       "      <td>15.596995</td>\n",
       "      <td>0.025637</td>\n",
       "      <td>0.023349</td>\n",
       "      <td>0.153411</td>\n",
       "      <td>103.423539</td>\n",
       "      <td>0.619655</td>\n",
       "    </tr>\n",
       "    <tr>\n",
       "      <th>std</th>\n",
       "      <td>0.518715</td>\n",
       "      <td>0.402648</td>\n",
       "      <td>0.870644</td>\n",
       "      <td>1.410905</td>\n",
       "      <td>0.173281</td>\n",
       "      <td>85.930817</td>\n",
       "      <td>0.383836</td>\n",
       "      <td>3.069894</td>\n",
       "      <td>8.740447</td>\n",
       "      <td>0.158053</td>\n",
       "      <td>0.368331</td>\n",
       "      <td>1.754171</td>\n",
       "      <td>35.089424</td>\n",
       "      <td>0.786236</td>\n",
       "    </tr>\n",
       "    <tr>\n",
       "      <th>min</th>\n",
       "      <td>0.000000</td>\n",
       "      <td>0.000000</td>\n",
       "      <td>0.000000</td>\n",
       "      <td>0.000000</td>\n",
       "      <td>0.000000</td>\n",
       "      <td>0.000000</td>\n",
       "      <td>2017.000000</td>\n",
       "      <td>1.000000</td>\n",
       "      <td>1.000000</td>\n",
       "      <td>0.000000</td>\n",
       "      <td>0.000000</td>\n",
       "      <td>0.000000</td>\n",
       "      <td>0.000000</td>\n",
       "      <td>0.000000</td>\n",
       "    </tr>\n",
       "    <tr>\n",
       "      <th>25%</th>\n",
       "      <td>2.000000</td>\n",
       "      <td>0.000000</td>\n",
       "      <td>0.000000</td>\n",
       "      <td>1.000000</td>\n",
       "      <td>0.000000</td>\n",
       "      <td>17.000000</td>\n",
       "      <td>2018.000000</td>\n",
       "      <td>5.000000</td>\n",
       "      <td>8.000000</td>\n",
       "      <td>0.000000</td>\n",
       "      <td>0.000000</td>\n",
       "      <td>0.000000</td>\n",
       "      <td>80.300000</td>\n",
       "      <td>0.000000</td>\n",
       "    </tr>\n",
       "    <tr>\n",
       "      <th>50%</th>\n",
       "      <td>2.000000</td>\n",
       "      <td>0.000000</td>\n",
       "      <td>1.000000</td>\n",
       "      <td>2.000000</td>\n",
       "      <td>0.000000</td>\n",
       "      <td>57.000000</td>\n",
       "      <td>2018.000000</td>\n",
       "      <td>8.000000</td>\n",
       "      <td>16.000000</td>\n",
       "      <td>0.000000</td>\n",
       "      <td>0.000000</td>\n",
       "      <td>0.000000</td>\n",
       "      <td>99.450000</td>\n",
       "      <td>0.000000</td>\n",
       "    </tr>\n",
       "    <tr>\n",
       "      <th>75%</th>\n",
       "      <td>2.000000</td>\n",
       "      <td>0.000000</td>\n",
       "      <td>2.000000</td>\n",
       "      <td>3.000000</td>\n",
       "      <td>0.000000</td>\n",
       "      <td>126.000000</td>\n",
       "      <td>2018.000000</td>\n",
       "      <td>10.000000</td>\n",
       "      <td>23.000000</td>\n",
       "      <td>0.000000</td>\n",
       "      <td>0.000000</td>\n",
       "      <td>0.000000</td>\n",
       "      <td>120.000000</td>\n",
       "      <td>1.000000</td>\n",
       "    </tr>\n",
       "    <tr>\n",
       "      <th>max</th>\n",
       "      <td>4.000000</td>\n",
       "      <td>10.000000</td>\n",
       "      <td>7.000000</td>\n",
       "      <td>17.000000</td>\n",
       "      <td>1.000000</td>\n",
       "      <td>443.000000</td>\n",
       "      <td>2018.000000</td>\n",
       "      <td>12.000000</td>\n",
       "      <td>31.000000</td>\n",
       "      <td>1.000000</td>\n",
       "      <td>13.000000</td>\n",
       "      <td>58.000000</td>\n",
       "      <td>540.000000</td>\n",
       "      <td>5.000000</td>\n",
       "    </tr>\n",
       "  </tbody>\n",
       "</table>\n",
       "</div>"
      ],
      "text/plain": [
       "       no_of_adults  no_of_children  no_of_weekend_nights  no_of_week_nights  \\\n",
       "count  36275.000000    36275.000000          36275.000000       36275.000000   \n",
       "mean       1.844962        0.105279              0.810724           2.204300   \n",
       "std        0.518715        0.402648              0.870644           1.410905   \n",
       "min        0.000000        0.000000              0.000000           0.000000   \n",
       "25%        2.000000        0.000000              0.000000           1.000000   \n",
       "50%        2.000000        0.000000              1.000000           2.000000   \n",
       "75%        2.000000        0.000000              2.000000           3.000000   \n",
       "max        4.000000       10.000000              7.000000          17.000000   \n",
       "\n",
       "       required_car_parking_space     lead_time  arrival_year  arrival_month  \\\n",
       "count                36275.000000  36275.000000  36275.000000   36275.000000   \n",
       "mean                     0.030986     85.232557   2017.820427       7.423653   \n",
       "std                      0.173281     85.930817      0.383836       3.069894   \n",
       "min                      0.000000      0.000000   2017.000000       1.000000   \n",
       "25%                      0.000000     17.000000   2018.000000       5.000000   \n",
       "50%                      0.000000     57.000000   2018.000000       8.000000   \n",
       "75%                      0.000000    126.000000   2018.000000      10.000000   \n",
       "max                      1.000000    443.000000   2018.000000      12.000000   \n",
       "\n",
       "       arrival_date  repeated_guest  no_of_previous_cancellations  \\\n",
       "count  36275.000000    36275.000000                  36275.000000   \n",
       "mean      15.596995        0.025637                      0.023349   \n",
       "std        8.740447        0.158053                      0.368331   \n",
       "min        1.000000        0.000000                      0.000000   \n",
       "25%        8.000000        0.000000                      0.000000   \n",
       "50%       16.000000        0.000000                      0.000000   \n",
       "75%       23.000000        0.000000                      0.000000   \n",
       "max       31.000000        1.000000                     13.000000   \n",
       "\n",
       "       no_of_previous_bookings_not_canceled  avg_price_per_room  \\\n",
       "count                          36275.000000        36275.000000   \n",
       "mean                               0.153411          103.423539   \n",
       "std                                1.754171           35.089424   \n",
       "min                                0.000000            0.000000   \n",
       "25%                                0.000000           80.300000   \n",
       "50%                                0.000000           99.450000   \n",
       "75%                                0.000000          120.000000   \n",
       "max                               58.000000          540.000000   \n",
       "\n",
       "       no_of_special_requests  \n",
       "count            36275.000000  \n",
       "mean                 0.619655  \n",
       "std                  0.786236  \n",
       "min                  0.000000  \n",
       "25%                  0.000000  \n",
       "50%                  0.000000  \n",
       "75%                  1.000000  \n",
       "max                  5.000000  "
      ]
     },
     "execution_count": 11,
     "metadata": {},
     "output_type": "execute_result"
    }
   ],
   "source": [
    "# Remove _________ and complete the code\n",
    "data.describe()\n"
   ]
  },
  {
   "cell_type": "markdown",
   "id": "9ac6b9fc",
   "metadata": {
    "id": "personal-detector"
   },
   "source": [
    "**Write your answers here:____**\n",
    "\n",
    "ANSWER: \n"
   ]
  },
  {
   "cell_type": "markdown",
   "id": "3c5503e3",
   "metadata": {
    "id": "realistic-mortgage"
   },
   "source": [
    "## **Exploratory Data Analysis**"
   ]
  },
  {
   "cell_type": "markdown",
   "id": "7627bdcb",
   "metadata": {
    "id": "arbitrary-intelligence"
   },
   "source": [
    "### **Question 2: Univariate Analysis**"
   ]
  },
  {
   "cell_type": "markdown",
   "id": "4c3ea6e0",
   "metadata": {
    "id": "mieBnCRTbgT-"
   },
   "source": [
    "Let's explore these variables in some more depth by observing their distributions."
   ]
  },
  {
   "cell_type": "markdown",
   "id": "12474cf1",
   "metadata": {
    "id": "X76cVRmTb-Wb"
   },
   "source": [
    "We will first define a **hist_box() function** that provides both a boxplot and a histogram in the same visual, with which we can perform univariate analysis on the columns of this dataset."
   ]
  },
  {
   "cell_type": "code",
   "execution_count": 13,
   "id": "f6d07b32",
   "metadata": {
    "id": "9k4V_XXCb495"
   },
   "outputs": [],
   "source": [
    "# Defining the hist_box() function\n",
    "def hist_box(data,col):\n",
    "  f, (ax_box, ax_hist) = plt.subplots(2, sharex=True, gridspec_kw={'height_ratios': (0.15, 0.85)}, figsize=(12,6))\n",
    "  # Adding a graph in each part\n",
    "  sns.boxplot(data[col], ax=ax_box, showmeans=True)\n",
    "  sns.distplot(data[col], ax=ax_hist)\n",
    "  plt.show()"
   ]
  },
  {
   "cell_type": "markdown",
   "id": "9cea6d78",
   "metadata": {
    "id": "GfcXGfchXHLV"
   },
   "source": [
    "#### **Question 2.1:  Plot the histogram and box plot for the variable `Lead Time` using the hist_box function provided and write your insights. (2 Mark)**"
   ]
  },
  {
   "cell_type": "code",
   "execution_count": 14,
   "id": "c2f693df",
   "metadata": {
    "id": "italian-imagination"
   },
   "outputs": [
    {
     "data": {
      "image/png": "[encoded data removed]",
      "text/plain": [
       "<Figure size 864x432 with 2 Axes>"
      ]
     },
     "metadata": {},
     "output_type": "display_data"
    }
   ],
   "source": [
    "# Remove _________ and complete the code\n",
    "hist_box(data,'lead_time') "
   ]
  },
  {
   "cell_type": "markdown",
   "id": "7e9cb403",
   "metadata": {
    "id": "racial-pointer"
   },
   "source": [
    "**Write your answers here:_____**"
   ]
  },
  {
   "cell_type": "markdown",
   "id": "4ef29cde",
   "metadata": {
    "id": "UklkmdoEWPD-"
   },
   "source": [
    "#### **Question 2.2:  Plot the histogram and box plot for the variable `Average Price per Room` using the hist_box function provided and write your insights. (2 Mark)**"
   ]
  },
  {
   "cell_type": "code",
   "execution_count": 15,
   "id": "fcc1145f",
   "metadata": {
    "id": "liable-guess"
   },
   "outputs": [
    {
     "data": {
      "image/png": "[encoded data removed]",
      "text/plain": [
       "<Figure size 864x432 with 2 Axes>"
      ]
     },
     "metadata": {},
     "output_type": "display_data"
    }
   ],
   "source": [
    "# Remove _________ and complete the code\n",
    "hist_box(data,'avg_price_per_room')"
   ]
  },
  {
   "cell_type": "markdown",
   "id": "c7f9ec59",
   "metadata": {
    "id": "little-metadata"
   },
   "source": [
    "**Write your answers here:_____**"
   ]
  },
  {
   "cell_type": "markdown",
   "id": "ad513171",
   "metadata": {
    "id": "KP4f-yCq72Xl"
   },
   "source": [
    "**Interestingly some rooms have a price equal to 0. Let's check them.**"
   ]
  },
  {
   "cell_type": "code",
   "execution_count": 23,
   "id": "03891a21",
   "metadata": {
    "id": "southern-organic"
   },
   "outputs": [
    {
     "data": {
      "text/html": [
       "<div>\n",
       "<style scoped>\n",
       "    .dataframe tbody tr th:only-of-type {\n",
       "        vertical-align: middle;\n",
       "    }\n",
       "\n",
       "    .dataframe tbody tr th {\n",
       "        vertical-align: top;\n",
       "    }\n",
       "\n",
       "    .dataframe thead th {\n",
       "        text-align: right;\n",
       "    }\n",
       "</style>\n",
       "<table border=\"1\" class=\"dataframe\">\n",
       "  <thead>\n",
       "    <tr style=\"text-align: right;\">\n",
       "      <th></th>\n",
       "      <th>no_of_adults</th>\n",
       "      <th>no_of_children</th>\n",
       "      <th>no_of_weekend_nights</th>\n",
       "      <th>no_of_week_nights</th>\n",
       "      <th>type_of_meal_plan</th>\n",
       "      <th>required_car_parking_space</th>\n",
       "      <th>room_type_reserved</th>\n",
       "      <th>lead_time</th>\n",
       "      <th>arrival_year</th>\n",
       "      <th>arrival_month</th>\n",
       "      <th>arrival_date</th>\n",
       "      <th>market_segment_type</th>\n",
       "      <th>repeated_guest</th>\n",
       "      <th>no_of_previous_cancellations</th>\n",
       "      <th>no_of_previous_bookings_not_canceled</th>\n",
       "      <th>avg_price_per_room</th>\n",
       "      <th>no_of_special_requests</th>\n",
       "      <th>booking_status</th>\n",
       "    </tr>\n",
       "  </thead>\n",
       "  <tbody>\n",
       "    <tr>\n",
       "      <th>63</th>\n",
       "      <td>1</td>\n",
       "      <td>0</td>\n",
       "      <td>0</td>\n",
       "      <td>1</td>\n",
       "      <td>Meal Plan 1</td>\n",
       "      <td>0</td>\n",
       "      <td>Room_Type 1</td>\n",
       "      <td>2</td>\n",
       "      <td>2017</td>\n",
       "      <td>9</td>\n",
       "      <td>10</td>\n",
       "      <td>Complementary</td>\n",
       "      <td>0</td>\n",
       "      <td>0</td>\n",
       "      <td>0</td>\n",
       "      <td>0.0</td>\n",
       "      <td>1</td>\n",
       "      <td>Not_Canceled</td>\n",
       "    </tr>\n",
       "    <tr>\n",
       "      <th>145</th>\n",
       "      <td>1</td>\n",
       "      <td>0</td>\n",
       "      <td>0</td>\n",
       "      <td>2</td>\n",
       "      <td>Meal Plan 1</td>\n",
       "      <td>0</td>\n",
       "      <td>Room_Type 1</td>\n",
       "      <td>13</td>\n",
       "      <td>2018</td>\n",
       "      <td>6</td>\n",
       "      <td>1</td>\n",
       "      <td>Complementary</td>\n",
       "      <td>1</td>\n",
       "      <td>3</td>\n",
       "      <td>5</td>\n",
       "      <td>0.0</td>\n",
       "      <td>1</td>\n",
       "      <td>Not_Canceled</td>\n",
       "    </tr>\n",
       "    <tr>\n",
       "      <th>209</th>\n",
       "      <td>1</td>\n",
       "      <td>0</td>\n",
       "      <td>0</td>\n",
       "      <td>0</td>\n",
       "      <td>Meal Plan 1</td>\n",
       "      <td>0</td>\n",
       "      <td>Room_Type 1</td>\n",
       "      <td>4</td>\n",
       "      <td>2018</td>\n",
       "      <td>2</td>\n",
       "      <td>27</td>\n",
       "      <td>Complementary</td>\n",
       "      <td>0</td>\n",
       "      <td>0</td>\n",
       "      <td>0</td>\n",
       "      <td>0.0</td>\n",
       "      <td>1</td>\n",
       "      <td>Not_Canceled</td>\n",
       "    </tr>\n",
       "    <tr>\n",
       "      <th>266</th>\n",
       "      <td>1</td>\n",
       "      <td>0</td>\n",
       "      <td>0</td>\n",
       "      <td>2</td>\n",
       "      <td>Meal Plan 1</td>\n",
       "      <td>0</td>\n",
       "      <td>Room_Type 1</td>\n",
       "      <td>1</td>\n",
       "      <td>2017</td>\n",
       "      <td>8</td>\n",
       "      <td>12</td>\n",
       "      <td>Complementary</td>\n",
       "      <td>1</td>\n",
       "      <td>0</td>\n",
       "      <td>1</td>\n",
       "      <td>0.0</td>\n",
       "      <td>1</td>\n",
       "      <td>Not_Canceled</td>\n",
       "    </tr>\n",
       "    <tr>\n",
       "      <th>267</th>\n",
       "      <td>1</td>\n",
       "      <td>0</td>\n",
       "      <td>2</td>\n",
       "      <td>1</td>\n",
       "      <td>Meal Plan 1</td>\n",
       "      <td>0</td>\n",
       "      <td>Room_Type 1</td>\n",
       "      <td>4</td>\n",
       "      <td>2017</td>\n",
       "      <td>8</td>\n",
       "      <td>23</td>\n",
       "      <td>Complementary</td>\n",
       "      <td>0</td>\n",
       "      <td>0</td>\n",
       "      <td>0</td>\n",
       "      <td>0.0</td>\n",
       "      <td>1</td>\n",
       "      <td>Not_Canceled</td>\n",
       "    </tr>\n",
       "    <tr>\n",
       "      <th>...</th>\n",
       "      <td>...</td>\n",
       "      <td>...</td>\n",
       "      <td>...</td>\n",
       "      <td>...</td>\n",
       "      <td>...</td>\n",
       "      <td>...</td>\n",
       "      <td>...</td>\n",
       "      <td>...</td>\n",
       "      <td>...</td>\n",
       "      <td>...</td>\n",
       "      <td>...</td>\n",
       "      <td>...</td>\n",
       "      <td>...</td>\n",
       "      <td>...</td>\n",
       "      <td>...</td>\n",
       "      <td>...</td>\n",
       "      <td>...</td>\n",
       "      <td>...</td>\n",
       "    </tr>\n",
       "    <tr>\n",
       "      <th>35983</th>\n",
       "      <td>1</td>\n",
       "      <td>0</td>\n",
       "      <td>0</td>\n",
       "      <td>1</td>\n",
       "      <td>Meal Plan 1</td>\n",
       "      <td>0</td>\n",
       "      <td>Room_Type 7</td>\n",
       "      <td>0</td>\n",
       "      <td>2018</td>\n",
       "      <td>6</td>\n",
       "      <td>7</td>\n",
       "      <td>Complementary</td>\n",
       "      <td>1</td>\n",
       "      <td>4</td>\n",
       "      <td>17</td>\n",
       "      <td>0.0</td>\n",
       "      <td>1</td>\n",
       "      <td>Not_Canceled</td>\n",
       "    </tr>\n",
       "    <tr>\n",
       "      <th>36080</th>\n",
       "      <td>1</td>\n",
       "      <td>0</td>\n",
       "      <td>1</td>\n",
       "      <td>1</td>\n",
       "      <td>Meal Plan 1</td>\n",
       "      <td>0</td>\n",
       "      <td>Room_Type 7</td>\n",
       "      <td>0</td>\n",
       "      <td>2018</td>\n",
       "      <td>3</td>\n",
       "      <td>21</td>\n",
       "      <td>Complementary</td>\n",
       "      <td>1</td>\n",
       "      <td>3</td>\n",
       "      <td>15</td>\n",
       "      <td>0.0</td>\n",
       "      <td>1</td>\n",
       "      <td>Not_Canceled</td>\n",
       "    </tr>\n",
       "    <tr>\n",
       "      <th>36114</th>\n",
       "      <td>1</td>\n",
       "      <td>0</td>\n",
       "      <td>0</td>\n",
       "      <td>1</td>\n",
       "      <td>Meal Plan 1</td>\n",
       "      <td>0</td>\n",
       "      <td>Room_Type 1</td>\n",
       "      <td>1</td>\n",
       "      <td>2018</td>\n",
       "      <td>3</td>\n",
       "      <td>2</td>\n",
       "      <td>Online</td>\n",
       "      <td>0</td>\n",
       "      <td>0</td>\n",
       "      <td>0</td>\n",
       "      <td>0.0</td>\n",
       "      <td>0</td>\n",
       "      <td>Not_Canceled</td>\n",
       "    </tr>\n",
       "    <tr>\n",
       "      <th>36217</th>\n",
       "      <td>2</td>\n",
       "      <td>0</td>\n",
       "      <td>2</td>\n",
       "      <td>1</td>\n",
       "      <td>Meal Plan 1</td>\n",
       "      <td>0</td>\n",
       "      <td>Room_Type 2</td>\n",
       "      <td>3</td>\n",
       "      <td>2017</td>\n",
       "      <td>8</td>\n",
       "      <td>9</td>\n",
       "      <td>Online</td>\n",
       "      <td>0</td>\n",
       "      <td>0</td>\n",
       "      <td>0</td>\n",
       "      <td>0.0</td>\n",
       "      <td>2</td>\n",
       "      <td>Not_Canceled</td>\n",
       "    </tr>\n",
       "    <tr>\n",
       "      <th>36250</th>\n",
       "      <td>1</td>\n",
       "      <td>0</td>\n",
       "      <td>0</td>\n",
       "      <td>2</td>\n",
       "      <td>Meal Plan 2</td>\n",
       "      <td>0</td>\n",
       "      <td>Room_Type 1</td>\n",
       "      <td>6</td>\n",
       "      <td>2017</td>\n",
       "      <td>12</td>\n",
       "      <td>10</td>\n",
       "      <td>Online</td>\n",
       "      <td>0</td>\n",
       "      <td>0</td>\n",
       "      <td>0</td>\n",
       "      <td>0.0</td>\n",
       "      <td>0</td>\n",
       "      <td>Not_Canceled</td>\n",
       "    </tr>\n",
       "  </tbody>\n",
       "</table>\n",
       "<p>545 rows × 18 columns</p>\n",
       "</div>"
      ],
      "text/plain": [
       "       no_of_adults  no_of_children  no_of_weekend_nights  no_of_week_nights  \\\n",
       "63                1               0                     0                  1   \n",
       "145               1               0                     0                  2   \n",
       "209               1               0                     0                  0   \n",
       "266               1               0                     0                  2   \n",
       "267               1               0                     2                  1   \n",
       "...             ...             ...                   ...                ...   \n",
       "35983             1               0                     0                  1   \n",
       "36080             1               0                     1                  1   \n",
       "36114             1               0                     0                  1   \n",
       "36217             2               0                     2                  1   \n",
       "36250             1               0                     0                  2   \n",
       "\n",
       "      type_of_meal_plan  required_car_parking_space room_type_reserved  \\\n",
       "63          Meal Plan 1                           0        Room_Type 1   \n",
       "145         Meal Plan 1                           0        Room_Type 1   \n",
       "209         Meal Plan 1                           0        Room_Type 1   \n",
       "266         Meal Plan 1                           0        Room_Type 1   \n",
       "267         Meal Plan 1                           0        Room_Type 1   \n",
       "...                 ...                         ...                ...   \n",
       "35983       Meal Plan 1                           0        Room_Type 7   \n",
       "36080       Meal Plan 1                           0        Room_Type 7   \n",
       "36114       Meal Plan 1                           0        Room_Type 1   \n",
       "36217       Meal Plan 1                           0        Room_Type 2   \n",
       "36250       Meal Plan 2                           0        Room_Type 1   \n",
       "\n",
       "       lead_time  arrival_year  arrival_month  arrival_date  \\\n",
       "63             2          2017              9            10   \n",
       "145           13          2018              6             1   \n",
       "209            4          2018              2            27   \n",
       "266            1          2017              8            12   \n",
       "267            4          2017              8            23   \n",
       "...          ...           ...            ...           ...   \n",
       "35983          0          2018              6             7   \n",
       "36080          0          2018              3            21   \n",
       "36114          1          2018              3             2   \n",
       "36217          3          2017              8             9   \n",
       "36250          6          2017             12            10   \n",
       "\n",
       "      market_segment_type  repeated_guest  no_of_previous_cancellations  \\\n",
       "63          Complementary               0                             0   \n",
       "145         Complementary               1                             3   \n",
       "209         Complementary               0                             0   \n",
       "266         Complementary               1                             0   \n",
       "267         Complementary               0                             0   \n",
       "...                   ...             ...                           ...   \n",
       "35983       Complementary               1                             4   \n",
       "36080       Complementary               1                             3   \n",
       "36114              Online               0                             0   \n",
       "36217              Online               0                             0   \n",
       "36250              Online               0                             0   \n",
       "\n",
       "       no_of_previous_bookings_not_canceled  avg_price_per_room  \\\n",
       "63                                        0                 0.0   \n",
       "145                                       5                 0.0   \n",
       "209                                       0                 0.0   \n",
       "266                                       1                 0.0   \n",
       "267                                       0                 0.0   \n",
       "...                                     ...                 ...   \n",
       "35983                                    17                 0.0   \n",
       "36080                                    15                 0.0   \n",
       "36114                                     0                 0.0   \n",
       "36217                                     0                 0.0   \n",
       "36250                                     0                 0.0   \n",
       "\n",
       "       no_of_special_requests booking_status  \n",
       "63                          1   Not_Canceled  \n",
       "145                         1   Not_Canceled  \n",
       "209                         1   Not_Canceled  \n",
       "266                         1   Not_Canceled  \n",
       "267                         1   Not_Canceled  \n",
       "...                       ...            ...  \n",
       "35983                       1   Not_Canceled  \n",
       "36080                       1   Not_Canceled  \n",
       "36114                       0   Not_Canceled  \n",
       "36217                       2   Not_Canceled  \n",
       "36250                       0   Not_Canceled  \n",
       "\n",
       "[545 rows x 18 columns]"
      ]
     },
     "execution_count": 23,
     "metadata": {},
     "output_type": "execute_result"
    }
   ],
   "source": [
    "data[data[\"avg_price_per_room\"] == 0]"
   ]
  },
  {
   "cell_type": "markdown",
   "id": "7803f5b8",
   "metadata": {
    "id": "voluntary-diagnosis"
   },
   "source": [
    "- There are quite a few hotel rooms which have a price equal to 0.\n",
    "- In the market segment column, it looks like many values are complementary."
   ]
  },
  {
   "cell_type": "code",
   "execution_count": 17,
   "id": "05c23608",
   "metadata": {
    "id": "written-stone"
   },
   "outputs": [
    {
     "data": {
      "text/plain": [
       "Complementary    354\n",
       "Online           191\n",
       "Name: market_segment_type, dtype: int64"
      ]
     },
     "execution_count": 17,
     "metadata": {},
     "output_type": "execute_result"
    }
   ],
   "source": [
    "data.loc[data[\"avg_price_per_room\"] == 0, \"market_segment_type\"].value_counts()"
   ]
  },
  {
   "cell_type": "markdown",
   "id": "e5592835",
   "metadata": {
    "id": "nutritional-gamma"
   },
   "source": [
    "* It makes sense that most values with room prices equal to 0 are the rooms given as complimentary service from the hotel.\n",
    "* The rooms booked online must be a part of some promotional campaign done by the hotel."
   ]
  },
  {
   "cell_type": "code",
   "execution_count": 18,
   "id": "601093ff",
   "metadata": {
    "id": "potential-klein"
   },
   "outputs": [
    {
     "data": {
      "text/plain": [
       "179.55"
      ]
     },
     "execution_count": 18,
     "metadata": {},
     "output_type": "execute_result"
    }
   ],
   "source": [
    "# Calculating the 25th quantile\n",
    "Q1 = data[\"avg_price_per_room\"].quantile(0.25)\n",
    "\n",
    "# Calculating the 75th quantile\n",
    "Q3 = data[\"avg_price_per_room\"].quantile(0.75)\n",
    "\n",
    "# Calculating IQR\n",
    "IQR = Q3 - Q1\n",
    "\n",
    "# Calculating value of upper whisker\n",
    "Upper_Whisker = Q3 + 1.5 * IQR\n",
    "Upper_Whisker"
   ]
  },
  {
   "cell_type": "code",
   "execution_count": 19,
   "id": "6a82d7dc",
   "metadata": {
    "id": "assured-holder"
   },
   "outputs": [],
   "source": [
    "# assigning the outliers the value of upper whisker\n",
    "data.loc[data[\"avg_price_per_room\"] >= 500, \"avg_price_per_room\"] = Upper_Whisker"
   ]
  },
  {
   "cell_type": "markdown",
   "id": "70bee3c3",
   "metadata": {
    "id": "skGK7OuPumzs"
   },
   "source": [
    "#### **Let's understand the distribution of the categorical variables**"
   ]
  },
  {
   "cell_type": "markdown",
   "id": "dd11f5c0",
   "metadata": {
    "id": "7dvPDVs3YQV-"
   },
   "source": [
    "**Number of Children**"
   ]
  },
  {
   "cell_type": "code",
   "execution_count": 20,
   "id": "eef8f73b",
   "metadata": {
    "id": "finite-kingston"
   },
   "outputs": [
    {
     "data": {
      "image/png": "[encoded data removed]",
      "text/plain": [
       "<Figure size 432x288 with 1 Axes>"
      ]
     },
     "metadata": {},
     "output_type": "display_data"
    }
   ],
   "source": [
    "sns.countplot(data['no_of_children'])\n",
    "plt.show()"
   ]
  },
  {
   "cell_type": "code",
   "execution_count": 21,
   "id": "654ad650",
   "metadata": {
    "id": "Rd-seHBO-rtT"
   },
   "outputs": [
    {
     "data": {
      "text/plain": [
       "0     0.925624\n",
       "1     0.044604\n",
       "2     0.029166\n",
       "3     0.000524\n",
       "9     0.000055\n",
       "10    0.000028\n",
       "Name: no_of_children, dtype: float64"
      ]
     },
     "execution_count": 21,
     "metadata": {},
     "output_type": "execute_result"
    }
   ],
   "source": [
    "data['no_of_children'].value_counts(normalize=True)"
   ]
  },
  {
   "cell_type": "markdown",
   "id": "4beb9b4d",
   "metadata": {
    "id": "animated-three"
   },
   "source": [
    "* Customers were not travelling with children in 93% of cases.\n",
    "* There are some values in the data where the number of children is 9 or 10, which is highly unlikely. \n",
    "* We will replace these values with the maximum value of 3 children."
   ]
  },
  {
   "cell_type": "code",
   "execution_count": null,
   "id": "3394c88f",
   "metadata": {
    "id": "necessary-employee"
   },
   "outputs": [],
   "source": [
    "# replacing 9, and 10 children with 3\n",
    "data[\"no_of_children\"] = data[\"no_of_children\"].replace([9, 10], 3)"
   ]
  },
  {
   "cell_type": "markdown",
   "id": "13aadbdb",
   "metadata": {
    "id": "thick-coordination"
   },
   "source": [
    "**Arrival Month**"
   ]
  },
  {
   "cell_type": "code",
   "execution_count": 24,
   "id": "7fe817b2",
   "metadata": {
    "id": "expensive-deposit"
   },
   "outputs": [
    {
     "data": {
      "image/png": "[encoded data removed]",
      "text/plain": [
       "<Figure size 432x288 with 1 Axes>"
      ]
     },
     "metadata": {},
     "output_type": "display_data"
    }
   ],
   "source": [
    "sns.countplot(data[\"arrival_month\"])\n",
    "plt.show()"
   ]
  },
  {
   "cell_type": "code",
   "execution_count": 25,
   "id": "3354a08f",
   "metadata": {
    "id": "2DpFp56Tvo3I"
   },
   "outputs": [
    {
     "data": {
      "text/plain": [
       "10    0.146575\n",
       "9     0.127112\n",
       "8     0.105114\n",
       "6     0.088298\n",
       "12    0.083280\n",
       "11    0.082150\n",
       "7     0.080496\n",
       "4     0.075424\n",
       "5     0.071620\n",
       "3     0.065003\n",
       "2     0.046975\n",
       "1     0.027953\n",
       "Name: arrival_month, dtype: float64"
      ]
     },
     "execution_count": 25,
     "metadata": {},
     "output_type": "execute_result"
    }
   ],
   "source": [
    "data['arrival_month'].value_counts(normalize=True)"
   ]
  },
  {
   "cell_type": "markdown",
   "id": "056c4cd7",
   "metadata": {
    "id": "affected-right"
   },
   "source": [
    "* October is the busiest month for hotel arrivals followed by September and August. **Over 35% of all bookings**, as we see in the above table, were for one of these three months.\n",
    "* Around 14.7% of the bookings were made for an October arrival."
   ]
  },
  {
   "cell_type": "markdown",
   "id": "72f8d9ab",
   "metadata": {
    "id": "dramatic-karaoke"
   },
   "source": [
    "**Booking Status**"
   ]
  },
  {
   "cell_type": "code",
   "execution_count": 26,
   "id": "a1f05152",
   "metadata": {
    "id": "happy-collins"
   },
   "outputs": [
    {
     "data": {
      "image/png": "[encoded data removed]",
      "text/plain": [
       "<Figure size 432x288 with 1 Axes>"
      ]
     },
     "metadata": {},
     "output_type": "display_data"
    }
   ],
   "source": [
    "sns.countplot(data[\"booking_status\"])\n",
    "plt.show()"
   ]
  },
  {
   "cell_type": "code",
   "execution_count": 27,
   "id": "28aa538d",
   "metadata": {
    "id": "wOeK2StJzykk"
   },
   "outputs": [
    {
     "data": {
      "text/plain": [
       "Not_Canceled    0.672364\n",
       "Canceled        0.327636\n",
       "Name: booking_status, dtype: float64"
      ]
     },
     "execution_count": 27,
     "metadata": {},
     "output_type": "execute_result"
    }
   ],
   "source": [
    "data['booking_status'].value_counts(normalize=True)"
   ]
  },
  {
   "cell_type": "markdown",
   "id": "9774f879",
   "metadata": {
    "id": "quantitative-fetish"
   },
   "source": [
    "* 32.8% of the bookings were canceled by the customers."
   ]
  },
  {
   "cell_type": "markdown",
   "id": "8e1837ce",
   "metadata": {
    "id": "pharmaceutical-grill"
   },
   "source": [
    "**Let's encode Canceled bookings to 1 and Not_Canceled as 0 for further analysis**"
   ]
  },
  {
   "cell_type": "code",
   "execution_count": null,
   "id": "c1dc96a7",
   "metadata": {
    "id": "voluntary-irish"
   },
   "outputs": [],
   "source": [
    "data[\"booking_status\"] = data[\"booking_status\"].apply(\n",
    "    lambda x: 1 if x == \"Canceled\" else 0\n",
    ")"
   ]
  },
  {
   "cell_type": "markdown",
   "id": "aacfa365",
   "metadata": {
    "id": "arranged-courtesy"
   },
   "source": [
    "### **Question 3: Bivariate Analysis**"
   ]
  },
  {
   "cell_type": "markdown",
   "id": "f0bf90e0",
   "metadata": {
    "id": "D4vIqPb9aaZW"
   },
   "source": [
    "#### **Question 3.1: Find and visualize the correlation matrix using a heatmap and write your observations from the plot. (2 Marks)**\n",
    "\n"
   ]
  },
  {
   "cell_type": "code",
   "execution_count": 99,
   "id": "e04b7f43",
   "metadata": {
    "id": "official-wyoming"
   },
   "outputs": [
    {
     "data": {
      "image/png": "[encoded data removed]",
      "text/plain": [
       "<Figure size 864x504 with 2 Axes>"
      ]
     },
     "metadata": {},
     "output_type": "display_data"
    }
   ],
   "source": [
    "# Remove _________ and complete the code\n",
    "cols_list = data.select_dtypes(include=np.number).columns.tolist()\n",
    "\n",
    "plt.figure(figsize=(12, 7))\n",
    "sns.heatmap(data.corr(), annot=True)\n",
    "plt.show()"
   ]
  },
  {
   "cell_type": "markdown",
   "id": "7754e927",
   "metadata": {
    "id": "brave-hamilton"
   },
   "source": [
    "**Write your answers here:_____**\n",
    "- We can see that there is a dtrong corellation betwen repeated guests and number of previos bookings not cancelled\n"
   ]
  },
  {
   "cell_type": "markdown",
   "id": "f5bab8f2",
   "metadata": {
    "id": "quick-works"
   },
   "source": [
    "**Hotel rates are dynamic and change according to demand and customer demographics. Let's see how prices vary across different market segments**"
   ]
  },
  {
   "cell_type": "code",
   "execution_count": 33,
   "id": "284230d5",
   "metadata": {
    "id": "animal-depth"
   },
   "outputs": [
    {
     "data": {
      "image/png": "[encoded data removed]",
      "text/plain": [
       "<Figure size 720x432 with 1 Axes>"
      ]
     },
     "metadata": {},
     "output_type": "display_data"
    }
   ],
   "source": [
    "plt.figure(figsize=(10, 6))\n",
    "sns.boxplot(\n",
    "    data=data, x=\"market_segment_type\", y=\"avg_price_per_room\", palette=\"gist_rainbow\"\n",
    ")\n",
    "plt.show()"
   ]
  },
  {
   "cell_type": "markdown",
   "id": "f5eea0d5",
   "metadata": {
    "id": "advised-community"
   },
   "source": [
    "* Rooms booked online have high variations in prices.\n",
    "* The offline and corporate room prices are almost similar.\n",
    "* Complementary market segment gets the rooms at very low prices, which makes sense."
   ]
  },
  {
   "cell_type": "markdown",
   "id": "2c000ba2",
   "metadata": {
    "id": "FJhhg4y4i3wO"
   },
   "source": [
    "We will define a **stacked barplot()** function to help analyse how the target variable varies across predictor categories."
   ]
  },
  {
   "cell_type": "code",
   "execution_count": 35,
   "id": "f8df4c31",
   "metadata": {
    "id": "GjDZRQMWiCEs"
   },
   "outputs": [],
   "source": [
    "# Defining the stacked_barplot() function\n",
    "def stacked_barplot(data,predictor,target,figsize=(10,6)):\n",
    "  (pd.crosstab(data[predictor],data[target],normalize='index')*100).plot(kind='bar',figsize=figsize,stacked=True)\n",
    "  plt.legend(loc=\"lower right\")\n",
    "  plt.ylabel('Percentage Cancellations %')"
   ]
  },
  {
   "cell_type": "markdown",
   "id": "c10e436c",
   "metadata": {
    "id": "75988GXzuEub"
   },
   "source": [
    "#### **Question 3.2: Plot the stacked barplot for the variable `Market Segment Type` against the target variable `Booking Status` using the stacked_barplot  function provided and write your insights. (1 Mark)**"
   ]
  },
  {
   "cell_type": "code",
   "execution_count": 36,
   "id": "d24ca67e",
   "metadata": {
    "id": "aMUKgxiFryyN"
   },
   "outputs": [
    {
     "data": {
      "image/png": "[encoded data removed]",
      "text/plain": [
       "<Figure size 720x432 with 1 Axes>"
      ]
     },
     "metadata": {},
     "output_type": "display_data"
    }
   ],
   "source": [
    "# Remove _________ and complete the code\n",
    "stacked_barplot(data,'market_segment_type', 'booking_status')"
   ]
  },
  {
   "cell_type": "markdown",
   "id": "439e15a2",
   "metadata": {
    "id": "IpvdhoHSuhrz"
   },
   "source": [
    "**Write your answers here: **\n",
    "\n",
    "-Here we can see that the most number of cancellations are done by people who have booked online\n",
    "\n",
    "-For people from aviation or who have booked offline the number of cancellations are almost the same\n",
    "\n",
    "-For complementary type there are no cancellations\n"
   ]
  },
  {
   "cell_type": "markdown",
   "id": "d7b541d1",
   "metadata": {
    "id": "gUldUCUYu3Qb"
   },
   "source": [
    "#### **Question 3.3: Plot the stacked barplot for the variable `Repeated Guest` against the target variable `Booking Status` using the stacked_barplot  function provided and write your insights. (1 Mark)**\n",
    "\n",
    "Repeating guests are the guests who stay in the hotel often and are important to brand equity."
   ]
  },
  {
   "cell_type": "code",
   "execution_count": 37,
   "id": "b4373f0c",
   "metadata": {
    "id": "L2AteH8ru-Lm"
   },
   "outputs": [
    {
     "data": {
      "image/png": "[encoded data removed]",
      "text/plain": [
       "<Figure size 720x432 with 1 Axes>"
      ]
     },
     "metadata": {},
     "output_type": "display_data"
    }
   ],
   "source": [
    "# Remove _________ and complete the code\n",
    "stacked_barplot(data,'repeated_guest','booking_status')"
   ]
  },
  {
   "cell_type": "markdown",
   "id": "39aebfd4",
   "metadata": {
    "id": "nmrkaaZPvRGr"
   },
   "source": [
    "**Write your answers here:_____**\n",
    "\n",
    "- It is a pretty obvious observation here, when the repeated guests are 0 that means that there are no repeated guests , this means they are booking for the first time thus explaining the cancellation.\n",
    "-When the repeated guests are 1 that is there are repeated guests , then there will be close to no cancellation as we can see in the graph.\n"
   ]
  },
  {
   "cell_type": "markdown",
   "id": "1ff79068",
   "metadata": {
    "id": "WMJ96mlkvhR8"
   },
   "source": [
    "**Let's analyze the customer who stayed for at least a day at the hotel.**"
   ]
  },
  {
   "cell_type": "code",
   "execution_count": 38,
   "id": "0b64f8d7",
   "metadata": {
    "id": "j0UdS10Wvfqd"
   },
   "outputs": [
    {
     "data": {
      "image/png": "[encoded data removed]",
      "text/plain": [
       "<Figure size 1080x432 with 1 Axes>"
      ]
     },
     "metadata": {},
     "output_type": "display_data"
    }
   ],
   "source": [
    "stay_data = data[(data[\"no_of_week_nights\"] > 0) & (data[\"no_of_weekend_nights\"] > 0)]\n",
    "stay_data[\"total_days\"] = (stay_data[\"no_of_week_nights\"] + stay_data[\"no_of_weekend_nights\"])\n",
    "\n",
    "stacked_barplot(stay_data, \"total_days\", \"booking_status\",figsize=(15,6))"
   ]
  },
  {
   "cell_type": "markdown",
   "id": "5e164e3c",
   "metadata": {
    "id": "-aDjNRtfvgNV"
   },
   "source": [
    "* The general trend is that the chances of cancellation increase as the number of days the customer planned to stay at the hotel increases."
   ]
  },
  {
   "cell_type": "markdown",
   "id": "5fb416c9",
   "metadata": {
    "id": "tired-bridges"
   },
   "source": [
    "**As hotel room prices are dynamic, Let's see how the prices vary across different months**"
   ]
  },
  {
   "cell_type": "code",
   "execution_count": 39,
   "id": "acdf6b05",
   "metadata": {
    "id": "atomic-locator"
   },
   "outputs": [
    {
     "data": {
      "image/png": "[encoded data removed]",
      "text/plain": [
       "<Figure size 720x360 with 1 Axes>"
      ]
     },
     "metadata": {},
     "output_type": "display_data"
    }
   ],
   "source": [
    "plt.figure(figsize=(10, 5))\n",
    "sns.lineplot(y=data[\"avg_price_per_room\"], x=data[\"arrival_month\"], ci=None)\n",
    "plt.show()"
   ]
  },
  {
   "cell_type": "markdown",
   "id": "4cf38e8b",
   "metadata": {
    "id": "incorporated-northern"
   },
   "source": [
    "* The price of rooms is highest in May to September - around 115 euros per room."
   ]
  },
  {
   "cell_type": "markdown",
   "id": "dfa8c231",
   "metadata": {
    "id": "pleased-chicken"
   },
   "source": [
    "## **Data Preparation for Modeling**\n",
    "\n",
    "- We want to predict which bookings will be canceled.\n",
    "- Before we proceed to build a model, we'll have to encode categorical features.\n",
    "- We'll split the data into train and test to be able to evaluate the model that we build on the train data."
   ]
  },
  {
   "cell_type": "markdown",
   "id": "c2580699",
   "metadata": {
    "id": "Q1yU3LeM5p73"
   },
   "source": [
    "**Separating the independent variables (X) and the dependent variable (Y)**"
   ]
  },
  {
   "cell_type": "code",
   "execution_count": 40,
   "id": "5fb53d55",
   "metadata": {
    "id": "durable-allergy"
   },
   "outputs": [],
   "source": [
    "X = data.drop([\"booking_status\"], axis=1)\n",
    "Y = data[\"booking_status\"]\n",
    "\n",
    "X = pd.get_dummies(X, drop_first=True) # Encoding the Categorical features"
   ]
  },
  {
   "cell_type": "markdown",
   "id": "91507a53",
   "metadata": {
    "id": "ugL1fDmu5sU-"
   },
   "source": [
    "**Splitting the data into a 70% train and 30% test set**\n",
    "\n",
    "Some classification problems can exhibit a large imbalance in the distribution of the target classes: for instance there could be several times more negative samples than positive samples. In such cases it is recommended to use the **stratified sampling** technique to ensure that relative class frequencies are approximately preserved in each train and validation fold."
   ]
  },
  {
   "cell_type": "code",
   "execution_count": 41,
   "id": "6f586e17",
   "metadata": {
    "id": "Xve9js0S5xPV"
   },
   "outputs": [],
   "source": [
    "# Splitting data in train and test sets\n",
    "X_train, X_test, y_train, y_test = train_test_split(X, Y, test_size=0.30,stratify=Y, random_state=1)"
   ]
  },
  {
   "cell_type": "code",
   "execution_count": 42,
   "id": "51d2b480",
   "metadata": {
    "id": "ecological-principal"
   },
   "outputs": [
    {
     "name": "stdout",
     "output_type": "stream",
     "text": [
      "Shape of Training set :  (25392, 27)\n",
      "Shape of test set :  (10883, 27)\n",
      "Percentage of classes in training set:\n",
      "Not_Canceled    0.672377\n",
      "Canceled        0.327623\n",
      "Name: booking_status, dtype: float64\n",
      "Percentage of classes in test set:\n",
      "Not_Canceled    0.672333\n",
      "Canceled        0.327667\n",
      "Name: booking_status, dtype: float64\n"
     ]
    }
   ],
   "source": [
    "print(\"Shape of Training set : \", X_train.shape)\n",
    "print(\"Shape of test set : \", X_test.shape)\n",
    "print(\"Percentage of classes in training set:\")\n",
    "print(y_train.value_counts(normalize=True))\n",
    "print(\"Percentage of classes in test set:\")\n",
    "print(y_test.value_counts(normalize=True))"
   ]
  },
  {
   "cell_type": "markdown",
   "id": "beac1c4b",
   "metadata": {
    "id": "cultural-engagement"
   },
   "source": [
    "## **Model Evaluation Criterion**\n",
    "\n",
    "#### **Model can make wrong predictions as:**\n",
    "\n",
    "1. Predicting a customer will not cancel their booking but in reality, the customer will cancel their booking.\n",
    "2. Predicting a customer will cancel their booking but in reality, the customer will not cancel their booking. \n",
    "\n",
    "#### **Which case is more important?** \n",
    "\n",
    "Both the cases are important as:\n",
    "\n",
    "* If we predict that a booking will not be canceled and the booking gets canceled then the hotel will lose resources and will have to bear additional costs of distribution channels.\n",
    "\n",
    "* If we predict that a booking will get canceled and the booking doesn't get canceled the hotel might not be able to provide satisfactory services to the customer by assuming that this booking will be canceled. This might damage brand equity. \n",
    "\n",
    "\n",
    "\n",
    "#### **How to reduce the losses?**\n",
    "\n",
    "* The hotel would want the `F1 Score` to be maximized, the greater the F1  score, the higher the chances of minimizing False Negatives and False Positives. "
   ]
  },
  {
   "cell_type": "markdown",
   "id": "f2b6c338",
   "metadata": {
    "id": "TIvULwEQ6NJO"
   },
   "source": [
    "**Also, let's create a function to calculate and print the classification report and confusion matrix so that we don't have to rewrite the same code repeatedly for each model.**"
   ]
  },
  {
   "cell_type": "code",
   "execution_count": 59,
   "id": "a85c4ce2",
   "metadata": {
    "id": "sx5AmqRM3Cxy"
   },
   "outputs": [],
   "source": [
    "# Creating metric function \n",
    "def metrics_score(actual, predicted):\n",
    "    print(classification_report(actual, predicted))\n",
    "\n",
    "    cm = confusion_matrix(actual, predicted)\n",
    "    plt.figure(figsize=(8,5))\n",
    "    \n",
    "    sns.heatmap(cm, annot=True,  fmt='.2f', xticklabels=['Not Cancelled', 'Cancelled'], yticklabels=['Not Cancelled', 'Cancelled'])\n",
    "    plt.ylabel('Actual')\n",
    "    plt.xlabel('Predicted')\n",
    "    plt.show()"
   ]
  },
  {
   "cell_type": "markdown",
   "id": "96a116f1",
   "metadata": {
    "id": "V6r7bPlp8W3E"
   },
   "source": [
    "## **Building the model**\n",
    "\n",
    "We will be building 2 different models:\n",
    "\n",
    "- **Logistic Regression**\n",
    "- **Support Vector Machine (SVM)**"
   ]
  },
  {
   "cell_type": "markdown",
   "id": "ce03cf21",
   "metadata": {
    "id": "opposed-glance"
   },
   "source": [
    "### **Question 4: Logistic Regression (12 Marks)**"
   ]
  },
  {
   "cell_type": "markdown",
   "id": "6de7f27b",
   "metadata": {
    "id": "bT_PaZ94M5hb"
   },
   "source": [
    "#### **Question 4.1: Build a Logistic Regression model (Use the sklearn library) (2 Mark)**"
   ]
  },
  {
   "cell_type": "code",
   "execution_count": 55,
   "id": "77252084",
   "metadata": {
    "id": "nominated-tumor"
   },
   "outputs": [
    {
     "data": {
      "text/plain": [
       "LogisticRegression()"
      ]
     },
     "execution_count": 55,
     "metadata": {},
     "output_type": "execute_result"
    }
   ],
   "source": [
    "# Remove _________ and complete the code\n",
    "\n",
    "# Fitting logistic regression model\n",
    "lg = LogisticRegression()\n",
    "lg.fit(X_train,y_train)"
   ]
  },
  {
   "cell_type": "markdown",
   "id": "ae5ca68e",
   "metadata": {
    "id": "KY_E1udCOCcN"
   },
   "source": [
    "#### **Question 4.2: Check the performance of the model on train and test data (4 Marks)**"
   ]
  },
  {
   "cell_type": "code",
   "execution_count": 77,
   "id": "1b748ffd",
   "metadata": {
    "id": "generous-investing"
   },
   "outputs": [
    {
     "name": "stdout",
     "output_type": "stream",
     "text": [
      "              precision    recall  f1-score   support\n",
      "\n",
      "    Canceled       0.73      0.60      0.66      8319\n",
      "Not_Canceled       0.82      0.89      0.86     17073\n",
      "\n",
      "    accuracy                           0.80     25392\n",
      "   macro avg       0.78      0.75      0.76     25392\n",
      "weighted avg       0.79      0.80      0.79     25392\n",
      "\n"
     ]
    },
    {
     "data": {
      "image/png": "[encoded data removed]",
      "text/plain": [
       "<Figure size 576x360 with 2 Axes>"
      ]
     },
     "metadata": {},
     "output_type": "display_data"
    }
   ],
   "source": [
    "# Remove _________ and complete the code\n",
    "\n",
    "# Checking the performance on the training data\n",
    "y_pred_train = lg.predict(X_train)\n",
    "metrics_score(y_train, y_pred_train)"
   ]
  },
  {
   "cell_type": "markdown",
   "id": "57a90259",
   "metadata": {
    "id": "52aOuAUFPJBL"
   },
   "source": [
    "**Write your Answer here:**\n",
    "\n"
   ]
  },
  {
   "cell_type": "markdown",
   "id": "f697da73",
   "metadata": {
    "id": "ycKHN5ZGWruu"
   },
   "source": [
    "Let's check the performance on the test set"
   ]
  },
  {
   "cell_type": "code",
   "execution_count": 78,
   "id": "c7a05163",
   "metadata": {
    "id": "_hbaUbSr6g6d"
   },
   "outputs": [
    {
     "name": "stdout",
     "output_type": "stream",
     "text": [
      "              precision    recall  f1-score   support\n",
      "\n",
      "    Canceled       0.73      0.61      0.66      3566\n",
      "Not_Canceled       0.82      0.89      0.86      7317\n",
      "\n",
      "    accuracy                           0.80     10883\n",
      "   macro avg       0.78      0.75      0.76     10883\n",
      "weighted avg       0.79      0.80      0.79     10883\n",
      "\n"
     ]
    },
    {
     "data": {
      "image/png": "[encoded data removed]",
      "text/plain": [
       "<Figure size 576x360 with 2 Axes>"
      ]
     },
     "metadata": {},
     "output_type": "display_data"
    }
   ],
   "source": [
    "# Remove _________ and complete the code\n",
    "\n",
    "# Checking the performance on the test dataset\n",
    "y_pred_test = lg.predict(X_test)\n",
    "metrics_score(y_test, y_pred_test)"
   ]
  },
  {
   "cell_type": "markdown",
   "id": "3f512dba",
   "metadata": {
    "id": "sBMbUH7DPKKT"
   },
   "source": [
    "**Write your Answer here:** "
   ]
  },
  {
   "cell_type": "markdown",
   "id": "1b7876c3",
   "metadata": {
    "id": "heated-intersection"
   },
   "source": [
    "\n",
    "#### **Question 4.3: Find the optimal threshold for the model using the Precision-Recall Curve. (2 Mark)**\n",
    "\n",
    "Precision-Recall curves summarize the trade-off between the true positive rate and the positive predictive value for a predictive model using different probability thresholds.\n",
    "\n",
    "Let's use the Precision-Recall curve and see if we can find a **better threshold.**\n"
   ]
  },
  {
   "cell_type": "code",
   "execution_count": null,
   "id": "b1294bfb",
   "metadata": {
    "id": "acute-newark"
   },
   "outputs": [],
   "source": [
    "# Remove _________ and complete the code\n",
    "\n",
    "# Predict_proba gives the probability of each observation belonging to each class\n",
    "y_scores_lg=lg.predict_proba(X_train)\n",
    "\n",
    "precisions_lg, recalls_lg, thresholds_lg = precision_recall_curve(y_train, y_scores_lg[:,1])\n",
    "# Plot values of precisions, recalls, and thresholds\n",
    "plt.figure(figsize=(10,7))\n",
    "plt.plot(thresholds_lg, precisions_lg[:-1], 'b--', label='precision')\n",
    "plt.plot(thresholds_lg, recalls_lg[:-1], 'g--', label = 'recall')\n",
    "plt.xlabel('Threshold')\n",
    "plt.legend(loc='upper left')\n",
    "plt.ylim([0,1])\n",
    "plt.show()"
   ]
  },
  {
   "cell_type": "markdown",
   "id": "466009bd",
   "metadata": {
    "id": "supported-series"
   },
   "source": [
    "**Write your answers here:_____**\n"
   ]
  },
  {
   "cell_type": "code",
   "execution_count": 89,
   "id": "630b889b",
   "metadata": {
    "id": "brown-advertiser"
   },
   "outputs": [],
   "source": [
    "# Setting the optimal threshold\n",
    "optimal_threshold = 0.35"
   ]
  },
  {
   "cell_type": "markdown",
   "id": "31576460",
   "metadata": {
    "id": "environmental-surface"
   },
   "source": [
    "#### **Question 4.4: Check the performance of the model on train and test data using the optimal threshold. (4 Marks)**"
   ]
  },
  {
   "cell_type": "code",
   "execution_count": null,
   "id": "b234059a",
   "metadata": {
    "id": "mental-albany"
   },
   "outputs": [],
   "source": [
    "# Remove _________ and complete the code\n",
    "\n",
    "# Creating confusion matrix\n",
    "y_pred_train = lg.predict_proba(X_train)\n",
    "metrics_score(y_train, y_pred_train[:,1]>optimal_threshold)"
   ]
  },
  {
   "cell_type": "markdown",
   "id": "99215023",
   "metadata": {
    "id": "indoor-equity"
   },
   "source": [
    "**Write your answers here:_____**\n"
   ]
  },
  {
   "cell_type": "markdown",
   "id": "fd79f3c9",
   "metadata": {
    "id": "xK2YZU-oYwnr"
   },
   "source": [
    "Let's check the performance on the test set"
   ]
  },
  {
   "cell_type": "code",
   "execution_count": null,
   "id": "d0ca870b",
   "metadata": {
    "id": "needed-trial"
   },
   "outputs": [],
   "source": [
    "# Remove _________ and complete the code\n",
    "\n",
    "y_pred_test = lg.predict_proba(X_test)\n",
    "metrics_score(y_test, y_pred_test[:,1]>optimal_threshold)"
   ]
  },
  {
   "cell_type": "markdown",
   "id": "91ae9242",
   "metadata": {
    "id": "virgin-polls"
   },
   "source": [
    "**Write your answers here:_____**\n"
   ]
  },
  {
   "cell_type": "markdown",
   "id": "68b0030f",
   "metadata": {
    "id": "42mzmgkfAB6r"
   },
   "source": [
    "### **Question 5: Support Vector Machines (12 Marks)**"
   ]
  },
  {
   "cell_type": "markdown",
   "id": "1783afed",
   "metadata": {
    "id": "DzJnFhWNry13"
   },
   "source": [
    "To accelerate SVM training, let's scale the data for support vector machines."
   ]
  },
  {
   "cell_type": "code",
   "execution_count": 92,
   "id": "d7622611",
   "metadata": {
    "id": "rvXQgpBFrxRv"
   },
   "outputs": [],
   "source": [
    "scaling = MinMaxScaler(feature_range=(-1,1)).fit(X_train)\n",
    "X_train_scaled = scaling.transform(X_train)\n",
    "X_test_scaled = scaling.transform(X_test)"
   ]
  },
  {
   "cell_type": "markdown",
   "id": "4f4f3801",
   "metadata": {
    "id": "ZF0KYzZYAB-I"
   },
   "source": [
    "Let's build the models using the two of the widely used kernel functions:\n",
    "\n",
    "1.   **Linear Kernel**\n",
    "2.   **RBF Kernel**\n",
    "\n"
   ]
  },
  {
   "cell_type": "markdown",
   "id": "a6795b4f",
   "metadata": {
    "id": "ym5BVbHfH6gQ"
   },
   "source": [
    "#### **Question 5.1: Build a Support Vector Machine model using a linear kernel (1 Mark)**"
   ]
  },
  {
   "cell_type": "markdown",
   "id": "6bc5adbf",
   "metadata": {
    "id": "wAY_HOopDom6"
   },
   "source": [
    "**Note: Please use the scaled data for modeling Support Vector Machine**"
   ]
  },
  {
   "cell_type": "code",
   "execution_count": 93,
   "id": "712939cb",
   "metadata": {
    "id": "YjXGT-G3AArW"
   },
   "outputs": [],
   "source": [
    "# Remove _________ and complete the code\n",
    "\n",
    "svm = SVC(kernel='linear',probability=True) # Linear kernal or linear decision boundary\n",
    "model = svm.fit(X_train,y_train)"
   ]
  },
  {
   "cell_type": "markdown",
   "id": "b53d540f",
   "metadata": {
    "id": "xPYFGhb6BSfJ"
   },
   "source": [
    "#### **Question 5.2: Check the performance of the model on train and test data (2 Marks)**"
   ]
  },
  {
   "cell_type": "code",
   "execution_count": null,
   "id": "1e635d52",
   "metadata": {
    "id": "3xWoYJarBBBF"
   },
   "outputs": [],
   "source": [
    "# Remove _________ and complete the code\n",
    "\n",
    "y_pred_train_svm = model.predict(X_train)\n",
    "metrics_score(y_train,X_train )"
   ]
  },
  {
   "cell_type": "markdown",
   "id": "92a29297",
   "metadata": {
    "id": "NOSJn5ZKRTDS"
   },
   "source": [
    "**Write your answers here:_____**\n"
   ]
  },
  {
   "cell_type": "markdown",
   "id": "fd922249",
   "metadata": {
    "id": "zgbgteTXyVN5"
   },
   "source": [
    "Checking model performance on test set"
   ]
  },
  {
   "cell_type": "code",
   "execution_count": null,
   "id": "1288b7ec",
   "metadata": {
    "id": "8fpUk_cIAAuv"
   },
   "outputs": [],
   "source": [
    "# Remove _________ and complete the code\n",
    "\n",
    "y_pred_test_svm = model.predict(X_test)\n",
    "metrics_score(y_test,y_pred_test_svm )"
   ]
  },
  {
   "cell_type": "markdown",
   "id": "703568e5",
   "metadata": {
    "id": "uQhJR6A4dLRr"
   },
   "source": [
    "**Write your answers here:_____**\n"
   ]
  },
  {
   "cell_type": "markdown",
   "id": "59d00212",
   "metadata": {
    "id": "biqGCISyTSHj"
   },
   "source": [
    "#### **Question 5.3: Find the optimal threshold for the model using the Precision-Recall Curve. (2 Mark)**\n"
   ]
  },
  {
   "cell_type": "code",
   "execution_count": null,
   "id": "ce5c9993",
   "metadata": {
    "id": "-m-5ArrO0m_A"
   },
   "outputs": [],
   "source": [
    "# Remove _________ and complete the code\n",
    "\n",
    "# Predict on train data\n",
    "y_scores_svm=model.predict_proba(X_train)\n",
    "\n",
    "precisions_svm, recalls_svm, thresholds_svm = precision_recall_curve(y_train, y_scores_svm[:,1])\n",
    "\n",
    "# Plot values of precisions, recalls, and thresholds\n",
    "plt.figure(figsize=(10,7))\n",
    "plt.plot(thresholds_svm, precisions_svm[:-1], 'b--', label='precision')\n",
    "plt.plot(thresholds_svm, recalls_svm[:-1], 'g--', label = 'recall')\n",
    "plt.xlabel('Threshold')\n",
    "plt.legend(loc='upper left')\n",
    "plt.ylim([0,1])\n",
    "plt.show()"
   ]
  },
  {
   "cell_type": "markdown",
   "id": "16a5740b",
   "metadata": {
    "id": "KIhLeNBKEplE"
   },
   "source": [
    "**Write your answers here:_____**\n"
   ]
  },
  {
   "cell_type": "code",
   "execution_count": null,
   "id": "7e65ea82",
   "metadata": {
    "id": "0G6DAkF_Thzl"
   },
   "outputs": [],
   "source": [
    "optimal_threshold_svm= .35"
   ]
  },
  {
   "cell_type": "markdown",
   "id": "b35f6be3",
   "metadata": {
    "id": "KavLMkflTm57"
   },
   "source": [
    "#### **Question 5.4: Check the performance of the model on train and test data using the optimal threshold. (2 Marks)**"
   ]
  },
  {
   "cell_type": "code",
   "execution_count": null,
   "id": "8d4404a1",
   "metadata": {
    "id": "ICf9R7L_TvS7"
   },
   "outputs": [],
   "source": [
    "# Remove _________ and complete the code\n",
    "\n",
    "y_pred_train_svm = model.proba(X_train)\n",
    "metrics_score(y_train,y_pred_train_svm)"
   ]
  },
  {
   "cell_type": "markdown",
   "id": "36434521",
   "metadata": {
    "id": "5X5QMI2VS3_h"
   },
   "source": [
    "**Write your answers here:_____**\n"
   ]
  },
  {
   "cell_type": "code",
   "execution_count": null,
   "id": "f4365d7a",
   "metadata": {
    "id": "s2BC_MXfH2x6"
   },
   "outputs": [],
   "source": [
    "# Remove _________ and complete the code\n",
    "\n",
    "y_pred_test = model.proba(X_test)\n",
    "metrics_score(y_test, y_pred_test)"
   ]
  },
  {
   "cell_type": "markdown",
   "id": "d1884351",
   "metadata": {
    "id": "QCuuTrvCGSyK"
   },
   "source": [
    "**Write your answers here:_____**\n"
   ]
  },
  {
   "cell_type": "markdown",
   "id": "d6931e6e",
   "metadata": {
    "id": "RWKtJmto0mwB"
   },
   "source": [
    "#### **Question 5.5: Build a Support Vector Machines model using an RBF kernel (1 Mark)**"
   ]
  },
  {
   "cell_type": "code",
   "execution_count": null,
   "id": "53c2f0aa",
   "metadata": {
    "id": "lJTfIaQ30m5o"
   },
   "outputs": [],
   "source": [
    "# Remove _________ and complete the code\n",
    "\n",
    "svm_rbf=SVC(kernel='linesr',probability=True)\n",
    "svm_rbf.fit(X_train,y_train)"
   ]
  },
  {
   "cell_type": "markdown",
   "id": "e5c8b33f",
   "metadata": {
    "id": "wA1qWKRS025i"
   },
   "source": [
    "#### **Question 5.6: Check the performance of the model on train and test data (2 Marks)**\n",
    "\n"
   ]
  },
  {
   "cell_type": "code",
   "execution_count": null,
   "id": "d2740f95",
   "metadata": {
    "id": "EKjry-eL0vxy"
   },
   "outputs": [],
   "source": [
    "# Remove _________ and complete the code\n",
    "\n",
    "y_pred_train_svm = svm_rbf.predict(X_train)\n",
    "metrics_score(y_train,y_pred_train_svm)"
   ]
  },
  {
   "cell_type": "markdown",
   "id": "5c9293ba",
   "metadata": {
    "id": "eVQ7ISZPTEfy"
   },
   "source": [
    "**Write your answers here:_____**\n"
   ]
  },
  {
   "cell_type": "markdown",
   "id": "051f9099",
   "metadata": {
    "id": "G-MGcMO903sp"
   },
   "source": [
    "#### Checking model performance on test set"
   ]
  },
  {
   "cell_type": "code",
   "execution_count": null,
   "id": "20d96144",
   "metadata": {
    "id": "s3WqNK2lUXlp"
   },
   "outputs": [],
   "source": [
    "# Remove _________ and complete the code\n",
    "\n",
    "y_pred_test = svm_rbf.predict(X_test)\n",
    "\n",
    "metrics_score(y_test, y_pred_test_svm)"
   ]
  },
  {
   "cell_type": "markdown",
   "id": "87194c32",
   "metadata": {
    "id": "xeEUvWSZTlEA"
   },
   "source": [
    "**Write your answers here:_____**\n"
   ]
  },
  {
   "cell_type": "code",
   "execution_count": null,
   "id": "7ed42a2e",
   "metadata": {
    "id": "IdktVBlKHuhM"
   },
   "outputs": [],
   "source": [
    "# Predict on train data\n",
    "y_scores_svm=svm_rbf.predict_proba(X_train_scaled)\n",
    "\n",
    "precisions_svm, recalls_svm, thresholds_svm = precision_recall_curve(y_train, y_scores_svm[:,1])\n",
    "\n",
    "# Plot values of precisions, recalls, and thresholds\n",
    "plt.figure(figsize=(10,7))\n",
    "plt.plot(thresholds_svm, precisions_svm[:-1], 'b--', label='precision')\n",
    "plt.plot(thresholds_svm, recalls_svm[:-1], 'g--', label = 'recall')\n",
    "plt.xlabel('Threshold')\n",
    "plt.legend(loc='upper left')\n",
    "plt.ylim([0,1])\n",
    "plt.show()"
   ]
  },
  {
   "cell_type": "code",
   "execution_count": null,
   "id": "b9160311",
   "metadata": {
    "id": "TLTllfbBWYjo"
   },
   "outputs": [],
   "source": [
    "optimal_threshold_svm=.35"
   ]
  },
  {
   "cell_type": "markdown",
   "id": "939d4346",
   "metadata": {
    "id": "1OakprjnXNY8"
   },
   "source": [
    "#### **Question 5.7: Check the performance of the model on train and test data using the optimal threshold. (2 Marks)**"
   ]
  },
  {
   "cell_type": "code",
   "execution_count": null,
   "id": "8419dc34",
   "metadata": {
    "id": "CjuakUWKsYMN"
   },
   "outputs": [],
   "source": [
    "# Remove _________ and complete the code\n",
    "\n",
    "y_pred_train_svm = model.predict_proba(X_train)\n",
    "metrics_score(y_train,y_pred_train_svm)"
   ]
  },
  {
   "cell_type": "markdown",
   "id": "d3f80492",
   "metadata": {
    "id": "jaZgooCfFoLx"
   },
   "source": [
    "**Write your answers here:_____**\n"
   ]
  },
  {
   "cell_type": "code",
   "execution_count": null,
   "id": "1bbf84b6",
   "metadata": {
    "id": "nQs1WAI_2jlr"
   },
   "outputs": [],
   "source": [
    "# Remove _________ and complete the code\n",
    "\n",
    "y_pred_test = svm_rbf.predict_proba(X_test)\n",
    "metrics_score(y_test,y_pred_test)"
   ]
  },
  {
   "cell_type": "markdown",
   "id": "c12fc281",
   "metadata": {
    "id": "xBu1WHxOOyg8"
   },
   "source": [
    "**Write your answers here:_____**\n"
   ]
  },
  {
   "cell_type": "markdown",
   "id": "b0a36159",
   "metadata": {
    "id": "f_5Q1zMbZuut"
   },
   "source": [
    "### **Question 8: Conclude ANY FOUR key takeaways for business recommendations (6 Marks)**"
   ]
  },
  {
   "cell_type": "markdown",
   "id": "f1a673d9",
   "metadata": {
    "id": "marked-coaching"
   },
   "source": [
    "**Write your answers here:_____**\n",
    "\n",
    "-\n",
    "  To be more profitable , the hotel should increase their prices during the peak months i.e October, September and Augest.\n",
    "- For the off-season , the company should focus more on advertising\n",
    "- To reduce online cancellatio they should attract coustomers by giving them nice offers\n",
    "- Not to let people book for more than a week , because who have a long booking tend to cancle the most\n"
   ]
  },
  {
   "cell_type": "markdown",
   "id": "03d7b4fc",
   "metadata": {
    "id": "wUzMsUCeIPaw"
   },
   "source": [
    "## **Happy Learning!**"
   ]
  }
 ],
 "metadata": {
  "colab": {
   "collapsed_sections": [],
   "name": "CHT_Graded_Project-Learner-Notebook",
   "provenance": []
  },
  "kernelspec": {
   "display_name": "Python 3 (ipykernel)",
   "language": "python",
   "name": "python3"
  },
  "language_info": {
   "codemirror_mode": {
    "name": "ipython",
    "version": 3
   },
   "file_extension": ".py",
   "mimetype": "text/x-python",
   "name": "python",
   "nbconvert_exporter": "python",
   "pygments_lexer": "ipython3",
   "version": "3.9.13"
  }
 },
 "nbformat": 4,
 "nbformat_minor": 5
}
